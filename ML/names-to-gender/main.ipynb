{
 "cells": [
  {
   "cell_type": "code",
   "execution_count": 1,
   "metadata": {},
   "outputs": [
    {
     "name": "stdout",
     "output_type": "stream",
     "text": [
      "Archive:  ./archive (67).zip\n",
      "  inflating: names-by-nationality.csv  \n"
     ]
    }
   ],
   "source": [
    "!unzip ./archive\\ \\(67\\).zip"
   ]
  },
  {
   "cell_type": "code",
   "execution_count": 1,
   "metadata": {},
   "outputs": [],
   "source": [
    "import pandas as pd"
   ]
  },
  {
   "cell_type": "code",
   "execution_count": 2,
   "metadata": {},
   "outputs": [],
   "source": [
    "data = pd.read_csv('./names-by-nationality.csv')"
   ]
  },
  {
   "cell_type": "code",
   "execution_count": 3,
   "metadata": {},
   "outputs": [
    {
     "data": {
      "text/html": [
       "<div>\n",
       "<style scoped>\n",
       "    .dataframe tbody tr th:only-of-type {\n",
       "        vertical-align: middle;\n",
       "    }\n",
       "\n",
       "    .dataframe tbody tr th {\n",
       "        vertical-align: top;\n",
       "    }\n",
       "\n",
       "    .dataframe thead th {\n",
       "        text-align: right;\n",
       "    }\n",
       "</style>\n",
       "<table border=\"1\" class=\"dataframe\">\n",
       "  <thead>\n",
       "    <tr style=\"text-align: right;\">\n",
       "      <th></th>\n",
       "      <th>name</th>\n",
       "      <th>sex</th>\n",
       "      <th>nationality</th>\n",
       "    </tr>\n",
       "  </thead>\n",
       "  <tbody>\n",
       "    <tr>\n",
       "      <th>0</th>\n",
       "      <td>Aarav</td>\n",
       "      <td>Male</td>\n",
       "      <td>Indian</td>\n",
       "    </tr>\n",
       "    <tr>\n",
       "      <th>1</th>\n",
       "      <td>Aaryan</td>\n",
       "      <td>Male</td>\n",
       "      <td>Indian</td>\n",
       "    </tr>\n",
       "    <tr>\n",
       "      <th>2</th>\n",
       "      <td>Abha</td>\n",
       "      <td>Female</td>\n",
       "      <td>Indian</td>\n",
       "    </tr>\n",
       "    <tr>\n",
       "      <th>3</th>\n",
       "      <td>Abhay</td>\n",
       "      <td>Male</td>\n",
       "      <td>Indian</td>\n",
       "    </tr>\n",
       "    <tr>\n",
       "      <th>4</th>\n",
       "      <td>Abhilash</td>\n",
       "      <td>Male</td>\n",
       "      <td>Indian</td>\n",
       "    </tr>\n",
       "  </tbody>\n",
       "</table>\n",
       "</div>"
      ],
      "text/plain": [
       "       name     sex nationality\n",
       "0     Aarav    Male      Indian\n",
       "1    Aaryan    Male      Indian\n",
       "2      Abha  Female      Indian\n",
       "3     Abhay    Male      Indian\n",
       "4  Abhilash    Male      Indian"
      ]
     },
     "execution_count": 3,
     "metadata": {},
     "output_type": "execute_result"
    }
   ],
   "source": [
    "data.head()"
   ]
  },
  {
   "cell_type": "code",
   "execution_count": 4,
   "metadata": {},
   "outputs": [
    {
     "data": {
      "text/plain": [
       "4695"
      ]
     },
     "execution_count": 4,
     "metadata": {},
     "output_type": "execute_result"
    }
   ],
   "source": [
    "len(data)"
   ]
  },
  {
   "cell_type": "code",
   "execution_count": 5,
   "metadata": {},
   "outputs": [
    {
     "data": {
      "text/plain": [
       "name           0\n",
       "sex            0\n",
       "nationality    0\n",
       "dtype: int64"
      ]
     },
     "execution_count": 5,
     "metadata": {},
     "output_type": "execute_result"
    }
   ],
   "source": [
    "data.isna().sum()"
   ]
  },
  {
   "cell_type": "code",
   "execution_count": 6,
   "metadata": {},
   "outputs": [],
   "source": [
    "import json\n",
    "def object_to_int(data,coloum):\n",
    "    info_dict = {}\n",
    "    all_info = []\n",
    "    index = -1\n",
    "    for info in data[coloum]:\n",
    "        if info not in info_dict:\n",
    "            index = index + 1\n",
    "            info_dict[info] = index\n",
    "    for info in data[coloum]:\n",
    "        all_info.append(info_dict[info])\n",
    "    with open(f'{coloum}.json','w') as json_file:\n",
    "        json.dump(info_dict,json_file)\n",
    "    return all_info,info_dict"
   ]
  },
  {
   "cell_type": "code",
   "execution_count": 7,
   "metadata": {},
   "outputs": [],
   "source": [
    "nationality_info = object_to_int(data,'nationality')\n",
    "data['nationality'] = nationality_info[0]"
   ]
  },
  {
   "cell_type": "code",
   "execution_count": 8,
   "metadata": {},
   "outputs": [
    {
     "data": {
      "text/html": [
       "<div>\n",
       "<style scoped>\n",
       "    .dataframe tbody tr th:only-of-type {\n",
       "        vertical-align: middle;\n",
       "    }\n",
       "\n",
       "    .dataframe tbody tr th {\n",
       "        vertical-align: top;\n",
       "    }\n",
       "\n",
       "    .dataframe thead th {\n",
       "        text-align: right;\n",
       "    }\n",
       "</style>\n",
       "<table border=\"1\" class=\"dataframe\">\n",
       "  <thead>\n",
       "    <tr style=\"text-align: right;\">\n",
       "      <th></th>\n",
       "      <th>name</th>\n",
       "      <th>sex</th>\n",
       "      <th>nationality</th>\n",
       "    </tr>\n",
       "  </thead>\n",
       "  <tbody>\n",
       "    <tr>\n",
       "      <th>0</th>\n",
       "      <td>Aarav</td>\n",
       "      <td>Male</td>\n",
       "      <td>0</td>\n",
       "    </tr>\n",
       "    <tr>\n",
       "      <th>1</th>\n",
       "      <td>Aaryan</td>\n",
       "      <td>Male</td>\n",
       "      <td>0</td>\n",
       "    </tr>\n",
       "    <tr>\n",
       "      <th>2</th>\n",
       "      <td>Abha</td>\n",
       "      <td>Female</td>\n",
       "      <td>0</td>\n",
       "    </tr>\n",
       "    <tr>\n",
       "      <th>3</th>\n",
       "      <td>Abhay</td>\n",
       "      <td>Male</td>\n",
       "      <td>0</td>\n",
       "    </tr>\n",
       "    <tr>\n",
       "      <th>4</th>\n",
       "      <td>Abhilash</td>\n",
       "      <td>Male</td>\n",
       "      <td>0</td>\n",
       "    </tr>\n",
       "  </tbody>\n",
       "</table>\n",
       "</div>"
      ],
      "text/plain": [
       "       name     sex  nationality\n",
       "0     Aarav    Male            0\n",
       "1    Aaryan    Male            0\n",
       "2      Abha  Female            0\n",
       "3     Abhay    Male            0\n",
       "4  Abhilash    Male            0"
      ]
     },
     "execution_count": 8,
     "metadata": {},
     "output_type": "execute_result"
    }
   ],
   "source": [
    "data.head()"
   ]
  },
  {
   "cell_type": "code",
   "execution_count": 9,
   "metadata": {},
   "outputs": [
    {
     "name": "stdout",
     "output_type": "stream",
     "text": [
      "'archive (67).zip'   names-by-nationality.csv   Untitled.ipynb\r\n",
      " main.ipynb\t     nationality.json\r\n"
     ]
    }
   ],
   "source": [
    "!ls"
   ]
  },
  {
   "cell_type": "code",
   "execution_count": 10,
   "metadata": {},
   "outputs": [],
   "source": [
    "sex_info = object_to_int(data,'sex')\n",
    "data['sex'] = sex_info[0]"
   ]
  },
  {
   "cell_type": "code",
   "execution_count": 11,
   "metadata": {},
   "outputs": [
    {
     "data": {
      "text/html": [
       "<div>\n",
       "<style scoped>\n",
       "    .dataframe tbody tr th:only-of-type {\n",
       "        vertical-align: middle;\n",
       "    }\n",
       "\n",
       "    .dataframe tbody tr th {\n",
       "        vertical-align: top;\n",
       "    }\n",
       "\n",
       "    .dataframe thead th {\n",
       "        text-align: right;\n",
       "    }\n",
       "</style>\n",
       "<table border=\"1\" class=\"dataframe\">\n",
       "  <thead>\n",
       "    <tr style=\"text-align: right;\">\n",
       "      <th></th>\n",
       "      <th>name</th>\n",
       "      <th>sex</th>\n",
       "      <th>nationality</th>\n",
       "    </tr>\n",
       "  </thead>\n",
       "  <tbody>\n",
       "    <tr>\n",
       "      <th>0</th>\n",
       "      <td>Aarav</td>\n",
       "      <td>0</td>\n",
       "      <td>0</td>\n",
       "    </tr>\n",
       "    <tr>\n",
       "      <th>1</th>\n",
       "      <td>Aaryan</td>\n",
       "      <td>0</td>\n",
       "      <td>0</td>\n",
       "    </tr>\n",
       "    <tr>\n",
       "      <th>2</th>\n",
       "      <td>Abha</td>\n",
       "      <td>1</td>\n",
       "      <td>0</td>\n",
       "    </tr>\n",
       "    <tr>\n",
       "      <th>3</th>\n",
       "      <td>Abhay</td>\n",
       "      <td>0</td>\n",
       "      <td>0</td>\n",
       "    </tr>\n",
       "    <tr>\n",
       "      <th>4</th>\n",
       "      <td>Abhilash</td>\n",
       "      <td>0</td>\n",
       "      <td>0</td>\n",
       "    </tr>\n",
       "  </tbody>\n",
       "</table>\n",
       "</div>"
      ],
      "text/plain": [
       "       name  sex  nationality\n",
       "0     Aarav    0            0\n",
       "1    Aaryan    0            0\n",
       "2      Abha    1            0\n",
       "3     Abhay    0            0\n",
       "4  Abhilash    0            0"
      ]
     },
     "execution_count": 11,
     "metadata": {},
     "output_type": "execute_result"
    }
   ],
   "source": [
    "data.head()"
   ]
  },
  {
   "cell_type": "code",
   "execution_count": 12,
   "metadata": {},
   "outputs": [
    {
     "data": {
      "text/plain": [
       "1    2573\n",
       "0    1356\n",
       "2     766\n",
       "Name: sex, dtype: int64"
      ]
     },
     "execution_count": 12,
     "metadata": {},
     "output_type": "execute_result"
    }
   ],
   "source": [
    "data['sex'].value_counts()"
   ]
  },
  {
   "cell_type": "code",
   "execution_count": 13,
   "metadata": {},
   "outputs": [
    {
     "data": {
      "text/html": [
       "<div>\n",
       "<style scoped>\n",
       "    .dataframe tbody tr th:only-of-type {\n",
       "        vertical-align: middle;\n",
       "    }\n",
       "\n",
       "    .dataframe tbody tr th {\n",
       "        vertical-align: top;\n",
       "    }\n",
       "\n",
       "    .dataframe thead th {\n",
       "        text-align: right;\n",
       "    }\n",
       "</style>\n",
       "<table border=\"1\" class=\"dataframe\">\n",
       "  <thead>\n",
       "    <tr style=\"text-align: right;\">\n",
       "      <th></th>\n",
       "      <th>name</th>\n",
       "      <th>sex</th>\n",
       "      <th>nationality</th>\n",
       "    </tr>\n",
       "  </thead>\n",
       "  <tbody>\n",
       "    <tr>\n",
       "      <th>0</th>\n",
       "      <td>Aarav</td>\n",
       "      <td>0</td>\n",
       "      <td>0</td>\n",
       "    </tr>\n",
       "    <tr>\n",
       "      <th>1</th>\n",
       "      <td>Aaryan</td>\n",
       "      <td>0</td>\n",
       "      <td>0</td>\n",
       "    </tr>\n",
       "    <tr>\n",
       "      <th>2</th>\n",
       "      <td>Abha</td>\n",
       "      <td>1</td>\n",
       "      <td>0</td>\n",
       "    </tr>\n",
       "    <tr>\n",
       "      <th>3</th>\n",
       "      <td>Abhay</td>\n",
       "      <td>0</td>\n",
       "      <td>0</td>\n",
       "    </tr>\n",
       "    <tr>\n",
       "      <th>4</th>\n",
       "      <td>Abhilash</td>\n",
       "      <td>0</td>\n",
       "      <td>0</td>\n",
       "    </tr>\n",
       "  </tbody>\n",
       "</table>\n",
       "</div>"
      ],
      "text/plain": [
       "       name  sex  nationality\n",
       "0     Aarav    0            0\n",
       "1    Aaryan    0            0\n",
       "2      Abha    1            0\n",
       "3     Abhay    0            0\n",
       "4  Abhilash    0            0"
      ]
     },
     "execution_count": 13,
     "metadata": {},
     "output_type": "execute_result"
    }
   ],
   "source": [
    "data.head()"
   ]
  },
  {
   "cell_type": "code",
   "execution_count": 14,
   "metadata": {},
   "outputs": [
    {
     "data": {
      "text/plain": [
       "<AxesSubplot:xlabel='sex'>"
      ]
     },
     "execution_count": 14,
     "metadata": {},
     "output_type": "execute_result"
    },
    {
     "data": {
      "image/png": "[encoded data removed]",
      "text/plain": [
       "<Figure size 432x288 with 1 Axes>"
      ]
     },
     "metadata": {
      "needs_background": "light"
     },
     "output_type": "display_data"
    }
   ],
   "source": [
    "import matplotlib.pyplot as plt\n",
    "pd.crosstab(data['sex'],data['nationality']).plot()"
   ]
  },
  {
   "cell_type": "code",
   "execution_count": 15,
   "metadata": {},
   "outputs": [
    {
     "data": {
      "text/html": [
       "<div>\n",
       "<style scoped>\n",
       "    .dataframe tbody tr th:only-of-type {\n",
       "        vertical-align: middle;\n",
       "    }\n",
       "\n",
       "    .dataframe tbody tr th {\n",
       "        vertical-align: top;\n",
       "    }\n",
       "\n",
       "    .dataframe thead th {\n",
       "        text-align: right;\n",
       "    }\n",
       "</style>\n",
       "<table border=\"1\" class=\"dataframe\">\n",
       "  <thead>\n",
       "    <tr style=\"text-align: right;\">\n",
       "      <th></th>\n",
       "      <th>name</th>\n",
       "      <th>sex</th>\n",
       "      <th>nationality</th>\n",
       "    </tr>\n",
       "  </thead>\n",
       "  <tbody>\n",
       "    <tr>\n",
       "      <th>0</th>\n",
       "      <td>Aarav</td>\n",
       "      <td>0</td>\n",
       "      <td>0</td>\n",
       "    </tr>\n",
       "    <tr>\n",
       "      <th>1</th>\n",
       "      <td>Aaryan</td>\n",
       "      <td>0</td>\n",
       "      <td>0</td>\n",
       "    </tr>\n",
       "    <tr>\n",
       "      <th>2</th>\n",
       "      <td>Abha</td>\n",
       "      <td>1</td>\n",
       "      <td>0</td>\n",
       "    </tr>\n",
       "    <tr>\n",
       "      <th>3</th>\n",
       "      <td>Abhay</td>\n",
       "      <td>0</td>\n",
       "      <td>0</td>\n",
       "    </tr>\n",
       "    <tr>\n",
       "      <th>4</th>\n",
       "      <td>Abhilash</td>\n",
       "      <td>0</td>\n",
       "      <td>0</td>\n",
       "    </tr>\n",
       "  </tbody>\n",
       "</table>\n",
       "</div>"
      ],
      "text/plain": [
       "       name  sex  nationality\n",
       "0     Aarav    0            0\n",
       "1    Aaryan    0            0\n",
       "2      Abha    1            0\n",
       "3     Abhay    0            0\n",
       "4  Abhilash    0            0"
      ]
     },
     "execution_count": 15,
     "metadata": {},
     "output_type": "execute_result"
    }
   ],
   "source": [
    "data.head()"
   ]
  },
  {
   "cell_type": "code",
   "execution_count": 16,
   "metadata": {},
   "outputs": [],
   "source": [
    "from sklearn.tree import DecisionTreeClassifier,ExtraTreeClassifier\n",
    "from sklearn.model_selection import *\n",
    "from sklearn.metrics import *\n",
    "from sklearn.ensemble import RandomForestClassifier,AdaBoostClassifier,BaggingClassifier,ExtraTreesClassifier,GradientBoostingClassifier,StackingClassifier,VotingClassifier\n",
    "from sklearn.linear_model import RidgeClassifier,SGDClassifier,Ridge,RidgeClassifierCV,RidgeCV\n",
    "from sklearn.naive_bayes import GaussianNB\n",
    "import pickle\n",
    "import os"
   ]
  },
  {
   "cell_type": "code",
   "execution_count": 17,
   "metadata": {},
   "outputs": [],
   "source": [
    "\n",
    "def fit_and_calcuate_metrixs(models:dict,X_train,X_test,y_train,y_test):\n",
    "    models_info = {}\n",
    "    for name,model in models.items():\n",
    "        print(name)\n",
    "        model = model.fit(X_train,y_train)\n",
    "        y_preds = model.predict(X_test)\n",
    "        try:\n",
    "            info = {\n",
    "                'Accuracy':model.score(X_test,y_test),\n",
    "                'F1 Score':f1_score(y_test,y_preds,average='macro'),\n",
    "                'Precision':precision_score(y_test,y_preds,average='macro'),\n",
    "                'Recall':recall_score(y_test,y_preds,average='macro')\n",
    "            }\n",
    "            plot_confusion_matrix(model,X_test,y_test)\n",
    "        except:\n",
    "            info = {'Accuracy':model.score(X_test,y_test)}\n",
    "        models_info[name] = info\n",
    "        print('\\n\\n')\n",
    "    return models_info\n",
    "def calcuate_metrixs(models:dict,X_train,X_test,y_train,y_test):\n",
    "    models_info = {}\n",
    "    for name,model in models.items():\n",
    "        print(name)\n",
    "        y_preds = model.predict(X_test)\n",
    "        info = {\n",
    "            'Accuracy':model.score(X_test,y_test),\n",
    "            'F1 Score':f1_score(y_test,y_preds,average='macro'),\n",
    "            'Precision':precision_score(y_test,y_preds,average='macro'),\n",
    "            'Recall':recall_score(y_test,y_preds,average='macro')\n",
    "        }\n",
    "        plot_confusion_matrix(model,X_test,y_test)\n",
    "        plot_roc_curve(model,X_test,y_test)\n",
    "        models_info[name] = info\n",
    "        print('\\n\\n')\n",
    "    return models_info"
   ]
  },
  {
   "cell_type": "code",
   "execution_count": 18,
   "metadata": {},
   "outputs": [
    {
     "data": {
      "text/html": [
       "<div>\n",
       "<style scoped>\n",
       "    .dataframe tbody tr th:only-of-type {\n",
       "        vertical-align: middle;\n",
       "    }\n",
       "\n",
       "    .dataframe tbody tr th {\n",
       "        vertical-align: top;\n",
       "    }\n",
       "\n",
       "    .dataframe thead th {\n",
       "        text-align: right;\n",
       "    }\n",
       "</style>\n",
       "<table border=\"1\" class=\"dataframe\">\n",
       "  <thead>\n",
       "    <tr style=\"text-align: right;\">\n",
       "      <th></th>\n",
       "      <th>name</th>\n",
       "      <th>sex</th>\n",
       "      <th>nationality</th>\n",
       "    </tr>\n",
       "  </thead>\n",
       "  <tbody>\n",
       "    <tr>\n",
       "      <th>0</th>\n",
       "      <td>Aarav</td>\n",
       "      <td>0</td>\n",
       "      <td>0</td>\n",
       "    </tr>\n",
       "    <tr>\n",
       "      <th>1</th>\n",
       "      <td>Aaryan</td>\n",
       "      <td>0</td>\n",
       "      <td>0</td>\n",
       "    </tr>\n",
       "    <tr>\n",
       "      <th>2</th>\n",
       "      <td>Abha</td>\n",
       "      <td>1</td>\n",
       "      <td>0</td>\n",
       "    </tr>\n",
       "    <tr>\n",
       "      <th>3</th>\n",
       "      <td>Abhay</td>\n",
       "      <td>0</td>\n",
       "      <td>0</td>\n",
       "    </tr>\n",
       "    <tr>\n",
       "      <th>4</th>\n",
       "      <td>Abhilash</td>\n",
       "      <td>0</td>\n",
       "      <td>0</td>\n",
       "    </tr>\n",
       "    <tr>\n",
       "      <th>...</th>\n",
       "      <td>...</td>\n",
       "      <td>...</td>\n",
       "      <td>...</td>\n",
       "    </tr>\n",
       "    <tr>\n",
       "      <th>4690</th>\n",
       "      <td>Worth</td>\n",
       "      <td>0</td>\n",
       "      <td>6</td>\n",
       "    </tr>\n",
       "    <tr>\n",
       "      <th>4691</th>\n",
       "      <td>Wrigley</td>\n",
       "      <td>2</td>\n",
       "      <td>6</td>\n",
       "    </tr>\n",
       "    <tr>\n",
       "      <th>4692</th>\n",
       "      <td>X-iomania</td>\n",
       "      <td>1</td>\n",
       "      <td>6</td>\n",
       "    </tr>\n",
       "    <tr>\n",
       "      <th>4693</th>\n",
       "      <td>Xadrian</td>\n",
       "      <td>0</td>\n",
       "      <td>6</td>\n",
       "    </tr>\n",
       "    <tr>\n",
       "      <th>4694</th>\n",
       "      <td>Xakery</td>\n",
       "      <td>0</td>\n",
       "      <td>6</td>\n",
       "    </tr>\n",
       "  </tbody>\n",
       "</table>\n",
       "<p>4695 rows × 3 columns</p>\n",
       "</div>"
      ],
      "text/plain": [
       "           name  sex  nationality\n",
       "0         Aarav    0            0\n",
       "1        Aaryan    0            0\n",
       "2          Abha    1            0\n",
       "3         Abhay    0            0\n",
       "4      Abhilash    0            0\n",
       "...         ...  ...          ...\n",
       "4690      Worth    0            6\n",
       "4691    Wrigley    2            6\n",
       "4692  X-iomania    1            6\n",
       "4693    Xadrian    0            6\n",
       "4694     Xakery    0            6\n",
       "\n",
       "[4695 rows x 3 columns]"
      ]
     },
     "execution_count": 18,
     "metadata": {},
     "output_type": "execute_result"
    }
   ],
   "source": [
    "data"
   ]
  },
  {
   "cell_type": "code",
   "execution_count": 19,
   "metadata": {},
   "outputs": [
    {
     "data": {
      "text/html": [
       "<div>\n",
       "<style scoped>\n",
       "    .dataframe tbody tr th:only-of-type {\n",
       "        vertical-align: middle;\n",
       "    }\n",
       "\n",
       "    .dataframe tbody tr th {\n",
       "        vertical-align: top;\n",
       "    }\n",
       "\n",
       "    .dataframe thead th {\n",
       "        text-align: right;\n",
       "    }\n",
       "</style>\n",
       "<table border=\"1\" class=\"dataframe\">\n",
       "  <thead>\n",
       "    <tr style=\"text-align: right;\">\n",
       "      <th></th>\n",
       "      <th>name</th>\n",
       "      <th>sex</th>\n",
       "      <th>nationality</th>\n",
       "    </tr>\n",
       "  </thead>\n",
       "  <tbody>\n",
       "    <tr>\n",
       "      <th>0</th>\n",
       "      <td>Aarav</td>\n",
       "      <td>0</td>\n",
       "      <td>0</td>\n",
       "    </tr>\n",
       "    <tr>\n",
       "      <th>1</th>\n",
       "      <td>Aaryan</td>\n",
       "      <td>0</td>\n",
       "      <td>0</td>\n",
       "    </tr>\n",
       "    <tr>\n",
       "      <th>2</th>\n",
       "      <td>Abha</td>\n",
       "      <td>1</td>\n",
       "      <td>0</td>\n",
       "    </tr>\n",
       "    <tr>\n",
       "      <th>3</th>\n",
       "      <td>Abhay</td>\n",
       "      <td>0</td>\n",
       "      <td>0</td>\n",
       "    </tr>\n",
       "    <tr>\n",
       "      <th>4</th>\n",
       "      <td>Abhilash</td>\n",
       "      <td>0</td>\n",
       "      <td>0</td>\n",
       "    </tr>\n",
       "    <tr>\n",
       "      <th>...</th>\n",
       "      <td>...</td>\n",
       "      <td>...</td>\n",
       "      <td>...</td>\n",
       "    </tr>\n",
       "    <tr>\n",
       "      <th>4690</th>\n",
       "      <td>Worth</td>\n",
       "      <td>0</td>\n",
       "      <td>6</td>\n",
       "    </tr>\n",
       "    <tr>\n",
       "      <th>4691</th>\n",
       "      <td>Wrigley</td>\n",
       "      <td>2</td>\n",
       "      <td>6</td>\n",
       "    </tr>\n",
       "    <tr>\n",
       "      <th>4692</th>\n",
       "      <td>X-iomania</td>\n",
       "      <td>1</td>\n",
       "      <td>6</td>\n",
       "    </tr>\n",
       "    <tr>\n",
       "      <th>4693</th>\n",
       "      <td>Xadrian</td>\n",
       "      <td>0</td>\n",
       "      <td>6</td>\n",
       "    </tr>\n",
       "    <tr>\n",
       "      <th>4694</th>\n",
       "      <td>Xakery</td>\n",
       "      <td>0</td>\n",
       "      <td>6</td>\n",
       "    </tr>\n",
       "  </tbody>\n",
       "</table>\n",
       "<p>4695 rows × 3 columns</p>\n",
       "</div>"
      ],
      "text/plain": [
       "           name  sex  nationality\n",
       "0         Aarav    0            0\n",
       "1        Aaryan    0            0\n",
       "2          Abha    1            0\n",
       "3         Abhay    0            0\n",
       "4      Abhilash    0            0\n",
       "...         ...  ...          ...\n",
       "4690      Worth    0            6\n",
       "4691    Wrigley    2            6\n",
       "4692  X-iomania    1            6\n",
       "4693    Xadrian    0            6\n",
       "4694     Xakery    0            6\n",
       "\n",
       "[4695 rows x 3 columns]"
      ]
     },
     "execution_count": 19,
     "metadata": {},
     "output_type": "execute_result"
    }
   ],
   "source": [
    "data"
   ]
  },
  {
   "cell_type": "code",
   "execution_count": 20,
   "metadata": {},
   "outputs": [],
   "source": [
    "X = data['name']\n",
    "y = data['sex']"
   ]
  },
  {
   "cell_type": "code",
   "execution_count": 21,
   "metadata": {},
   "outputs": [
    {
     "name": "stdout",
     "output_type": "stream",
     "text": [
      "GradientBoostingClassifier\n"
     ]
    },
    {
     "name": "stderr",
     "output_type": "stream",
     "text": [
      "/home/ranuga/.local/lib/python3.8/site-packages/sklearn/metrics/_classification.py:1221: UndefinedMetricWarning: Precision is ill-defined and being set to 0.0 in labels with no predicted samples. Use `zero_division` parameter to control this behavior.\n",
      "  _warn_prf(average, modifier, msg_start, len(result))\n"
     ]
    },
    {
     "name": "stdout",
     "output_type": "stream",
     "text": [
      "\n",
      "\n",
      "\n",
      "ExtraTreesClassifier\n"
     ]
    },
    {
     "name": "stderr",
     "output_type": "stream",
     "text": [
      "/home/ranuga/.local/lib/python3.8/site-packages/sklearn/metrics/_classification.py:1221: UndefinedMetricWarning: Precision is ill-defined and being set to 0.0 in labels with no predicted samples. Use `zero_division` parameter to control this behavior.\n",
      "  _warn_prf(average, modifier, msg_start, len(result))\n"
     ]
    },
    {
     "name": "stdout",
     "output_type": "stream",
     "text": [
      "\n",
      "\n",
      "\n",
      "BaggingClassifier\n"
     ]
    },
    {
     "name": "stderr",
     "output_type": "stream",
     "text": [
      "/home/ranuga/.local/lib/python3.8/site-packages/sklearn/metrics/_classification.py:1221: UndefinedMetricWarning: Precision is ill-defined and being set to 0.0 in labels with no predicted samples. Use `zero_division` parameter to control this behavior.\n",
      "  _warn_prf(average, modifier, msg_start, len(result))\n"
     ]
    },
    {
     "name": "stdout",
     "output_type": "stream",
     "text": [
      "\n",
      "\n",
      "\n",
      "AdaBoostClassifier\n"
     ]
    },
    {
     "name": "stderr",
     "output_type": "stream",
     "text": [
      "/home/ranuga/.local/lib/python3.8/site-packages/sklearn/metrics/_classification.py:1221: UndefinedMetricWarning: Precision is ill-defined and being set to 0.0 in labels with no predicted samples. Use `zero_division` parameter to control this behavior.\n",
      "  _warn_prf(average, modifier, msg_start, len(result))\n"
     ]
    },
    {
     "name": "stdout",
     "output_type": "stream",
     "text": [
      "\n",
      "\n",
      "\n",
      "RandomForestClassifier\n"
     ]
    },
    {
     "name": "stderr",
     "output_type": "stream",
     "text": [
      "/home/ranuga/.local/lib/python3.8/site-packages/sklearn/metrics/_classification.py:1221: UndefinedMetricWarning: Precision is ill-defined and being set to 0.0 in labels with no predicted samples. Use `zero_division` parameter to control this behavior.\n",
      "  _warn_prf(average, modifier, msg_start, len(result))\n"
     ]
    },
    {
     "name": "stdout",
     "output_type": "stream",
     "text": [
      "\n",
      "\n",
      "\n",
      "SGDClassifier\n",
      "\n",
      "\n",
      "\n",
      "RidgeClassifier\n"
     ]
    },
    {
     "name": "stderr",
     "output_type": "stream",
     "text": [
      "/home/ranuga/.local/lib/python3.8/site-packages/sklearn/metrics/_classification.py:1221: UndefinedMetricWarning: Precision is ill-defined and being set to 0.0 in labels with no predicted samples. Use `zero_division` parameter to control this behavior.\n",
      "  _warn_prf(average, modifier, msg_start, len(result))\n"
     ]
    },
    {
     "name": "stdout",
     "output_type": "stream",
     "text": [
      "\n",
      "\n",
      "\n",
      "ExtraTreeClassifier\n"
     ]
    },
    {
     "name": "stderr",
     "output_type": "stream",
     "text": [
      "/home/ranuga/.local/lib/python3.8/site-packages/sklearn/metrics/_classification.py:1221: UndefinedMetricWarning: Precision is ill-defined and being set to 0.0 in labels with no predicted samples. Use `zero_division` parameter to control this behavior.\n",
      "  _warn_prf(average, modifier, msg_start, len(result))\n"
     ]
    },
    {
     "name": "stdout",
     "output_type": "stream",
     "text": [
      "\n",
      "\n",
      "\n",
      "DecisionTreeClassifier\n"
     ]
    },
    {
     "name": "stderr",
     "output_type": "stream",
     "text": [
      "/home/ranuga/.local/lib/python3.8/site-packages/sklearn/metrics/_classification.py:1221: UndefinedMetricWarning: Precision is ill-defined and being set to 0.0 in labels with no predicted samples. Use `zero_division` parameter to control this behavior.\n",
      "  _warn_prf(average, modifier, msg_start, len(result))\n"
     ]
    },
    {
     "name": "stdout",
     "output_type": "stream",
     "text": [
      "\n",
      "\n",
      "\n"
     ]
    },
    {
     "data": {
      "image/png": "[encoded data removed]",
      "text/plain": [
       "<Figure size 432x288 with 2 Axes>"
      ]
     },
     "metadata": {
      "needs_background": "light"
     },
     "output_type": "display_data"
    },
    {
     "data": {
      "image/png": "[encoded data removed]",
      "text/plain": [
       "<Figure size 432x288 with 2 Axes>"
      ]
     },
     "metadata": {
      "needs_background": "light"
     },
     "output_type": "display_data"
    },
    {
     "data": {
      "image/png": "[encoded data removed]",
      "text/plain": [
       "<Figure size 432x288 with 2 Axes>"
      ]
     },
     "metadata": {
      "needs_background": "light"
     },
     "output_type": "display_data"
    },
    {
     "data": {
      "image/png": "[encoded data removed]",
      "text/plain": [
       "<Figure size 432x288 with 2 Axes>"
      ]
     },
     "metadata": {
      "needs_background": "light"
     },
     "output_type": "display_data"
    },
    {
     "data": {
      "image/png": "[encoded data removed]",
      "text/plain": [
       "<Figure size 432x288 with 2 Axes>"
      ]
     },
     "metadata": {
      "needs_background": "light"
     },
     "output_type": "display_data"
    },
    {
     "data": {
      "image/png": "[encoded data removed]",
      "text/plain": [
       "<Figure size 432x288 with 2 Axes>"
      ]
     },
     "metadata": {
      "needs_background": "light"
     },
     "output_type": "display_data"
    },
    {
     "data": {
      "image/png": "[encoded data removed]",
      "text/plain": [
       "<Figure size 432x288 with 2 Axes>"
      ]
     },
     "metadata": {
      "needs_background": "light"
     },
     "output_type": "display_data"
    },
    {
     "data": {
      "image/png": "[encoded data removed]",
      "text/plain": [
       "<Figure size 432x288 with 2 Axes>"
      ]
     },
     "metadata": {
      "needs_background": "light"
     },
     "output_type": "display_data"
    },
    {
     "data": {
      "image/png": "[encoded data removed]",
      "text/plain": [
       "<Figure size 432x288 with 2 Axes>"
      ]
     },
     "metadata": {
      "needs_background": "light"
     },
     "output_type": "display_data"
    }
   ],
   "source": [
    "X = data['name']\n",
    "y = data['sex']\n",
    "from sklearn.feature_extraction.text import CountVectorizer,TfidfVectorizer\n",
    "cv = CountVectorizer()\n",
    "cv.fit(X)\n",
    "X = cv.transform(X)\n",
    "X_train,X_test,y_train,y_test = train_test_split(X,y,test_size=0.25)\n",
    "models = {\n",
    "    'GradientBoostingClassifier':GradientBoostingClassifier(),\n",
    "    'ExtraTreesClassifier':ExtraTreesClassifier(),\n",
    "    'BaggingClassifier':BaggingClassifier(),\n",
    "    'AdaBoostClassifier':AdaBoostClassifier(),\n",
    "    'RandomForestClassifier':RandomForestClassifier(),\n",
    "    'SGDClassifier':SGDClassifier(),\n",
    "    'RidgeClassifier':RidgeClassifier(),\n",
    "    'ExtraTreeClassifier':ExtraTreeClassifier(),\n",
    "    'DecisionTreeClassifier':DecisionTreeClassifier(),\n",
    "}\n",
    "models_clf_results = fit_and_calcuate_metrixs(models,X_train,X_test,y_train,y_test)\n",
    "models_clf_results = pd.DataFrame(models_clf_results.values(),models_clf_results.keys())"
   ]
  },
  {
   "cell_type": "code",
   "execution_count": 22,
   "metadata": {},
   "outputs": [],
   "source": [
    "X_train,X_test,y_train,y_test = train_test_split(X,y,test_size=0.25)"
   ]
  },
  {
   "cell_type": "code",
   "execution_count": 23,
   "metadata": {},
   "outputs": [
    {
     "name": "stdout",
     "output_type": "stream",
     "text": [
      "GradientBoostingClassifier\n"
     ]
    },
    {
     "name": "stderr",
     "output_type": "stream",
     "text": [
      "/home/ranuga/.local/lib/python3.8/site-packages/sklearn/metrics/_classification.py:1221: UndefinedMetricWarning: Precision is ill-defined and being set to 0.0 in labels with no predicted samples. Use `zero_division` parameter to control this behavior.\n",
      "  _warn_prf(average, modifier, msg_start, len(result))\n"
     ]
    },
    {
     "name": "stdout",
     "output_type": "stream",
     "text": [
      "\n",
      "\n",
      "\n",
      "ExtraTreesClassifier\n"
     ]
    },
    {
     "name": "stderr",
     "output_type": "stream",
     "text": [
      "/home/ranuga/.local/lib/python3.8/site-packages/sklearn/metrics/_classification.py:1221: UndefinedMetricWarning: Precision is ill-defined and being set to 0.0 in labels with no predicted samples. Use `zero_division` parameter to control this behavior.\n",
      "  _warn_prf(average, modifier, msg_start, len(result))\n"
     ]
    },
    {
     "name": "stdout",
     "output_type": "stream",
     "text": [
      "\n",
      "\n",
      "\n",
      "BaggingClassifier\n"
     ]
    },
    {
     "name": "stderr",
     "output_type": "stream",
     "text": [
      "/home/ranuga/.local/lib/python3.8/site-packages/sklearn/metrics/_classification.py:1221: UndefinedMetricWarning: Precision is ill-defined and being set to 0.0 in labels with no predicted samples. Use `zero_division` parameter to control this behavior.\n",
      "  _warn_prf(average, modifier, msg_start, len(result))\n"
     ]
    },
    {
     "name": "stdout",
     "output_type": "stream",
     "text": [
      "\n",
      "\n",
      "\n",
      "AdaBoostClassifier\n"
     ]
    },
    {
     "name": "stderr",
     "output_type": "stream",
     "text": [
      "/home/ranuga/.local/lib/python3.8/site-packages/sklearn/metrics/_classification.py:1221: UndefinedMetricWarning: Precision is ill-defined and being set to 0.0 in labels with no predicted samples. Use `zero_division` parameter to control this behavior.\n",
      "  _warn_prf(average, modifier, msg_start, len(result))\n"
     ]
    },
    {
     "name": "stdout",
     "output_type": "stream",
     "text": [
      "\n",
      "\n",
      "\n",
      "RandomForestClassifier\n"
     ]
    },
    {
     "name": "stderr",
     "output_type": "stream",
     "text": [
      "/home/ranuga/.local/lib/python3.8/site-packages/sklearn/metrics/_classification.py:1221: UndefinedMetricWarning: Precision is ill-defined and being set to 0.0 in labels with no predicted samples. Use `zero_division` parameter to control this behavior.\n",
      "  _warn_prf(average, modifier, msg_start, len(result))\n"
     ]
    },
    {
     "name": "stdout",
     "output_type": "stream",
     "text": [
      "\n",
      "\n",
      "\n",
      "SGDClassifier\n",
      "\n",
      "\n",
      "\n",
      "RidgeClassifier\n",
      "\n",
      "\n",
      "\n",
      "ExtraTreeClassifier\n"
     ]
    },
    {
     "name": "stderr",
     "output_type": "stream",
     "text": [
      "/home/ranuga/.local/lib/python3.8/site-packages/sklearn/metrics/_classification.py:1221: UndefinedMetricWarning: Precision is ill-defined and being set to 0.0 in labels with no predicted samples. Use `zero_division` parameter to control this behavior.\n",
      "  _warn_prf(average, modifier, msg_start, len(result))\n",
      "/home/ranuga/.local/lib/python3.8/site-packages/sklearn/metrics/_classification.py:1221: UndefinedMetricWarning: Precision is ill-defined and being set to 0.0 in labels with no predicted samples. Use `zero_division` parameter to control this behavior.\n",
      "  _warn_prf(average, modifier, msg_start, len(result))\n"
     ]
    },
    {
     "name": "stdout",
     "output_type": "stream",
     "text": [
      "\n",
      "\n",
      "\n",
      "DecisionTreeClassifier\n"
     ]
    },
    {
     "name": "stderr",
     "output_type": "stream",
     "text": [
      "/home/ranuga/.local/lib/python3.8/site-packages/sklearn/metrics/_classification.py:1221: UndefinedMetricWarning: Precision is ill-defined and being set to 0.0 in labels with no predicted samples. Use `zero_division` parameter to control this behavior.\n",
      "  _warn_prf(average, modifier, msg_start, len(result))\n"
     ]
    },
    {
     "name": "stdout",
     "output_type": "stream",
     "text": [
      "\n",
      "\n",
      "\n"
     ]
    },
    {
     "data": {
      "image/png": "[encoded data removed]",
      "text/plain": [
       "<Figure size 432x288 with 2 Axes>"
      ]
     },
     "metadata": {
      "needs_background": "light"
     },
     "output_type": "display_data"
    },
    {
     "data": {
      "image/png": "[encoded data removed]",
      "text/plain": [
       "<Figure size 432x288 with 2 Axes>"
      ]
     },
     "metadata": {
      "needs_background": "light"
     },
     "output_type": "display_data"
    },
    {
     "data": {
      "image/png": "[encoded data removed]",
      "text/plain": [
       "<Figure size 432x288 with 2 Axes>"
      ]
     },
     "metadata": {
      "needs_background": "light"
     },
     "output_type": "display_data"
    },
    {
     "data": {
      "image/png": "[encoded data removed]",
      "text/plain": [
       "<Figure size 432x288 with 2 Axes>"
      ]
     },
     "metadata": {
      "needs_background": "light"
     },
     "output_type": "display_data"
    },
    {
     "data": {
      "image/png": "[encoded data removed]",
      "text/plain": [
       "<Figure size 432x288 with 2 Axes>"
      ]
     },
     "metadata": {
      "needs_background": "light"
     },
     "output_type": "display_data"
    },
    {
     "data": {
      "image/png": "[encoded data removed]",
      "text/plain": [
       "<Figure size 432x288 with 2 Axes>"
      ]
     },
     "metadata": {
      "needs_background": "light"
     },
     "output_type": "display_data"
    },
    {
     "data": {
      "image/png": "[encoded data removed]",
      "text/plain": [
       "<Figure size 432x288 with 2 Axes>"
      ]
     },
     "metadata": {
      "needs_background": "light"
     },
     "output_type": "display_data"
    },
    {
     "data": {
      "image/png": "[encoded data removed]",
      "text/plain": [
       "<Figure size 432x288 with 2 Axes>"
      ]
     },
     "metadata": {
      "needs_background": "light"
     },
     "output_type": "display_data"
    },
    {
     "data": {
      "image/png": "[encoded data removed]",
      "text/plain": [
       "<Figure size 432x288 with 2 Axes>"
      ]
     },
     "metadata": {
      "needs_background": "light"
     },
     "output_type": "display_data"
    }
   ],
   "source": [
    "models = {\n",
    "    'GradientBoostingClassifier':GradientBoostingClassifier(),\n",
    "    'ExtraTreesClassifier':ExtraTreesClassifier(),\n",
    "    'BaggingClassifier':BaggingClassifier(),\n",
    "    'AdaBoostClassifier':AdaBoostClassifier(),\n",
    "    'RandomForestClassifier':RandomForestClassifier(),\n",
    "    'SGDClassifier':SGDClassifier(),\n",
    "    'RidgeClassifier':RidgeClassifier(),\n",
    "    'ExtraTreeClassifier':ExtraTreeClassifier(),\n",
    "    'DecisionTreeClassifier':DecisionTreeClassifier(),\n",
    "}\n",
    "models_clf_results = fit_and_calcuate_metrixs(models,X_train,X_test,y_train,y_test)\n",
    "models_clf_results = pd.DataFrame(models_clf_results.values(),models_clf_results.keys())"
   ]
  },
  {
   "cell_type": "code",
   "execution_count": 24,
   "metadata": {},
   "outputs": [
    {
     "data": {
      "text/html": [
       "<div>\n",
       "<style scoped>\n",
       "    .dataframe tbody tr th:only-of-type {\n",
       "        vertical-align: middle;\n",
       "    }\n",
       "\n",
       "    .dataframe tbody tr th {\n",
       "        vertical-align: top;\n",
       "    }\n",
       "\n",
       "    .dataframe thead th {\n",
       "        text-align: right;\n",
       "    }\n",
       "</style>\n",
       "<table border=\"1\" class=\"dataframe\">\n",
       "  <thead>\n",
       "    <tr style=\"text-align: right;\">\n",
       "      <th></th>\n",
       "      <th>Accuracy</th>\n",
       "      <th>F1 Score</th>\n",
       "      <th>Precision</th>\n",
       "      <th>Recall</th>\n",
       "    </tr>\n",
       "  </thead>\n",
       "  <tbody>\n",
       "    <tr>\n",
       "      <th>GradientBoostingClassifier</th>\n",
       "      <td>0.545145</td>\n",
       "      <td>0.235208</td>\n",
       "      <td>0.181715</td>\n",
       "      <td>0.333333</td>\n",
       "    </tr>\n",
       "    <tr>\n",
       "      <th>ExtraTreesClassifier</th>\n",
       "      <td>0.545145</td>\n",
       "      <td>0.235208</td>\n",
       "      <td>0.181715</td>\n",
       "      <td>0.333333</td>\n",
       "    </tr>\n",
       "    <tr>\n",
       "      <th>BaggingClassifier</th>\n",
       "      <td>0.545145</td>\n",
       "      <td>0.235208</td>\n",
       "      <td>0.181715</td>\n",
       "      <td>0.333333</td>\n",
       "    </tr>\n",
       "    <tr>\n",
       "      <th>AdaBoostClassifier</th>\n",
       "      <td>0.545145</td>\n",
       "      <td>0.235208</td>\n",
       "      <td>0.181715</td>\n",
       "      <td>0.333333</td>\n",
       "    </tr>\n",
       "    <tr>\n",
       "      <th>RandomForestClassifier</th>\n",
       "      <td>0.545145</td>\n",
       "      <td>0.235208</td>\n",
       "      <td>0.181715</td>\n",
       "      <td>0.333333</td>\n",
       "    </tr>\n",
       "    <tr>\n",
       "      <th>SGDClassifier</th>\n",
       "      <td>0.545997</td>\n",
       "      <td>0.237316</td>\n",
       "      <td>0.515203</td>\n",
       "      <td>0.334325</td>\n",
       "    </tr>\n",
       "    <tr>\n",
       "      <th>RidgeClassifier</th>\n",
       "      <td>0.545997</td>\n",
       "      <td>0.237316</td>\n",
       "      <td>0.515203</td>\n",
       "      <td>0.334325</td>\n",
       "    </tr>\n",
       "    <tr>\n",
       "      <th>ExtraTreeClassifier</th>\n",
       "      <td>0.545997</td>\n",
       "      <td>0.237316</td>\n",
       "      <td>0.515203</td>\n",
       "      <td>0.334325</td>\n",
       "    </tr>\n",
       "    <tr>\n",
       "      <th>DecisionTreeClassifier</th>\n",
       "      <td>0.545997</td>\n",
       "      <td>0.237316</td>\n",
       "      <td>0.515203</td>\n",
       "      <td>0.334325</td>\n",
       "    </tr>\n",
       "  </tbody>\n",
       "</table>\n",
       "</div>"
      ],
      "text/plain": [
       "                            Accuracy  F1 Score  Precision    Recall\n",
       "GradientBoostingClassifier  0.545145  0.235208   0.181715  0.333333\n",
       "ExtraTreesClassifier        0.545145  0.235208   0.181715  0.333333\n",
       "BaggingClassifier           0.545145  0.235208   0.181715  0.333333\n",
       "AdaBoostClassifier          0.545145  0.235208   0.181715  0.333333\n",
       "RandomForestClassifier      0.545145  0.235208   0.181715  0.333333\n",
       "SGDClassifier               0.545997  0.237316   0.515203  0.334325\n",
       "RidgeClassifier             0.545997  0.237316   0.515203  0.334325\n",
       "ExtraTreeClassifier         0.545997  0.237316   0.515203  0.334325\n",
       "DecisionTreeClassifier      0.545997  0.237316   0.515203  0.334325"
      ]
     },
     "execution_count": 24,
     "metadata": {},
     "output_type": "execute_result"
    }
   ],
   "source": [
    "models_clf_results"
   ]
  },
  {
   "cell_type": "code",
   "execution_count": 25,
   "metadata": {},
   "outputs": [
    {
     "data": {
      "text/plain": [
       "<AxesSubplot:>"
      ]
     },
     "execution_count": 25,
     "metadata": {},
     "output_type": "execute_result"
    },
    {
     "data": {
      "image/png": "[encoded data removed]",
      "text/plain": [
       "<Figure size 1440x720 with 1 Axes>"
      ]
     },
     "metadata": {
      "needs_background": "light"
     },
     "output_type": "display_data"
    }
   ],
   "source": [
    "models_clf_results.plot.bar(figsize=(20,10))"
   ]
  },
  {
   "cell_type": "markdown",
   "metadata": {},
   "source": [
    "### SGDClassifier"
   ]
  },
  {
   "cell_type": "code",
   "execution_count": 26,
   "metadata": {},
   "outputs": [
    {
     "name": "stdout",
     "output_type": "stream",
     "text": [
      "Fitting 2 folds for each of 72 candidates, totalling 144 fits\n",
      "[CV] alpha=0.25, average=False, epsilon=0.25, l1_ratio=0.25, loss=log, penalty=l2, power_t=0.25, shuffle=True, warm_start=True \n",
      "[CV]  alpha=0.25, average=False, epsilon=0.25, l1_ratio=0.25, loss=log, penalty=l2, power_t=0.25, shuffle=True, warm_start=True, score=0.549, total=   0.0s\n",
      "[CV] alpha=0.25, average=False, epsilon=0.25, l1_ratio=0.25, loss=log, penalty=l2, power_t=0.25, shuffle=True, warm_start=True \n",
      "[CV]  alpha=0.25, average=False, epsilon=0.25, l1_ratio=0.25, loss=log, penalty=l2, power_t=0.25, shuffle=True, warm_start=True, score=0.549, total=   0.0s\n",
      "[CV] alpha=0.25, average=False, epsilon=0.25, l1_ratio=0.25, loss=log, penalty=l2, power_t=0.25, shuffle=True, warm_start=False \n",
      "[CV]  alpha=0.25, average=False, epsilon=0.25, l1_ratio=0.25, loss=log, penalty=l2, power_t=0.25, shuffle=True, warm_start=False, score=0.549, total=   0.0s\n",
      "[CV] alpha=0.25, average=False, epsilon=0.25, l1_ratio=0.25, loss=log, penalty=l2, power_t=0.25, shuffle=True, warm_start=False \n",
      "[CV]  alpha=0.25, average=False, epsilon=0.25, l1_ratio=0.25, loss=log, penalty=l2, power_t=0.25, shuffle=True, warm_start=False, score=0.549, total=   0.0s\n",
      "[CV] alpha=0.25, average=False, epsilon=0.25, l1_ratio=0.25, loss=log, penalty=l2, power_t=0.25, shuffle=False, warm_start=True \n",
      "[CV]  alpha=0.25, average=False, epsilon=0.25, l1_ratio=0.25, loss=log, penalty=l2, power_t=0.25, shuffle=False, warm_start=True, score=0.549, total=   0.0s\n",
      "[CV] alpha=0.25, average=False, epsilon=0.25, l1_ratio=0.25, loss=log, penalty=l2, power_t=0.25, shuffle=False, warm_start=True \n",
      "[CV]  alpha=0.25, average=False, epsilon=0.25, l1_ratio=0.25, loss=log, penalty=l2, power_t=0.25, shuffle=False, warm_start=True, score=0.549, total=   0.0s\n",
      "[CV] alpha=0.25, average=False, epsilon=0.25, l1_ratio=0.25, loss=log, penalty=l2, power_t=0.25, shuffle=False, warm_start=False \n",
      "[CV]  alpha=0.25, average=False, epsilon=0.25, l1_ratio=0.25, loss=log, penalty=l2, power_t=0.25, shuffle=False, warm_start=False, score=0.549, total=   0.0s\n",
      "[CV] alpha=0.25, average=False, epsilon=0.25, l1_ratio=0.25, loss=log, penalty=l2, power_t=0.25, shuffle=False, warm_start=False \n",
      "[CV]  alpha=0.25, average=False, epsilon=0.25, l1_ratio=0.25, loss=log, penalty=l2, power_t=0.25, shuffle=False, warm_start=False, score=0.549, total=   0.0s\n",
      "[CV] alpha=0.25, average=False, epsilon=0.25, l1_ratio=0.25, loss=log, penalty=l1, power_t=0.25, shuffle=True, warm_start=True \n",
      "[CV]  alpha=0.25, average=False, epsilon=0.25, l1_ratio=0.25, loss=log, penalty=l1, power_t=0.25, shuffle=True, warm_start=True, score=0.549, total=   0.0s\n",
      "[CV] alpha=0.25, average=False, epsilon=0.25, l1_ratio=0.25, loss=log, penalty=l1, power_t=0.25, shuffle=True, warm_start=True \n",
      "[CV]  alpha=0.25, average=False, epsilon=0.25, l1_ratio=0.25, loss=log, penalty=l1, power_t=0.25, shuffle=True, warm_start=True, score=0.549, total=   0.0s\n",
      "[CV] alpha=0.25, average=False, epsilon=0.25, l1_ratio=0.25, loss=log, penalty=l1, power_t=0.25, shuffle=True, warm_start=False \n",
      "[CV]  alpha=0.25, average=False, epsilon=0.25, l1_ratio=0.25, loss=log, penalty=l1, power_t=0.25, shuffle=True, warm_start=False, score=0.549, total=   0.0s\n",
      "[CV] alpha=0.25, average=False, epsilon=0.25, l1_ratio=0.25, loss=log, penalty=l1, power_t=0.25, shuffle=True, warm_start=False \n",
      "[CV]  alpha=0.25, average=False, epsilon=0.25, l1_ratio=0.25, loss=log, penalty=l1, power_t=0.25, shuffle=True, warm_start=False, score=0.549, total=   0.0s\n",
      "[CV] alpha=0.25, average=False, epsilon=0.25, l1_ratio=0.25, loss=log, penalty=l1, power_t=0.25, shuffle=False, warm_start=True \n",
      "[CV]  alpha=0.25, average=False, epsilon=0.25, l1_ratio=0.25, loss=log, penalty=l1, power_t=0.25, shuffle=False, warm_start=True, score=0.549, total=   0.0s\n",
      "[CV] alpha=0.25, average=False, epsilon=0.25, l1_ratio=0.25, loss=log, penalty=l1, power_t=0.25, shuffle=False, warm_start=True \n",
      "[CV]  alpha=0.25, average=False, epsilon=0.25, l1_ratio=0.25, loss=log, penalty=l1, power_t=0.25, shuffle=False, warm_start=True, score=0.549, total=   0.0s\n",
      "[CV] alpha=0.25, average=False, epsilon=0.25, l1_ratio=0.25, loss=log, penalty=l1, power_t=0.25, shuffle=False, warm_start=False \n",
      "[CV]  alpha=0.25, average=False, epsilon=0.25, l1_ratio=0.25, loss=log, penalty=l1, power_t=0.25, shuffle=False, warm_start=False, score=0.549, total=   0.0s\n",
      "[CV] alpha=0.25, average=False, epsilon=0.25, l1_ratio=0.25, loss=log, penalty=l1, power_t=0.25, shuffle=False, warm_start=False \n",
      "[CV]  alpha=0.25, average=False, epsilon=0.25, l1_ratio=0.25, loss=log, penalty=l1, power_t=0.25, shuffle=False, warm_start=False, score=0.549, total=   0.0s\n",
      "[CV] alpha=0.25, average=False, epsilon=0.25, l1_ratio=0.25, loss=log, penalty=elasticnet, power_t=0.25, shuffle=True, warm_start=True \n",
      "[CV]  alpha=0.25, average=False, epsilon=0.25, l1_ratio=0.25, loss=log, penalty=elasticnet, power_t=0.25, shuffle=True, warm_start=True, score=0.549, total=   0.0s\n",
      "[CV] alpha=0.25, average=False, epsilon=0.25, l1_ratio=0.25, loss=log, penalty=elasticnet, power_t=0.25, shuffle=True, warm_start=True \n",
      "[CV]  alpha=0.25, average=False, epsilon=0.25, l1_ratio=0.25, loss=log, penalty=elasticnet, power_t=0.25, shuffle=True, warm_start=True, score=0.549, total=   0.0s\n",
      "[CV] alpha=0.25, average=False, epsilon=0.25, l1_ratio=0.25, loss=log, penalty=elasticnet, power_t=0.25, shuffle=True, warm_start=False \n",
      "[CV]  alpha=0.25, average=False, epsilon=0.25, l1_ratio=0.25, loss=log, penalty=elasticnet, power_t=0.25, shuffle=True, warm_start=False, score=0.549, total=   0.0s\n",
      "[CV] alpha=0.25, average=False, epsilon=0.25, l1_ratio=0.25, loss=log, penalty=elasticnet, power_t=0.25, shuffle=True, warm_start=False \n",
      "[CV]  alpha=0.25, average=False, epsilon=0.25, l1_ratio=0.25, loss=log, penalty=elasticnet, power_t=0.25, shuffle=True, warm_start=False, score=0.549, total=   0.0s\n",
      "[CV] alpha=0.25, average=False, epsilon=0.25, l1_ratio=0.25, loss=log, penalty=elasticnet, power_t=0.25, shuffle=False, warm_start=True \n",
      "[CV]  alpha=0.25, average=False, epsilon=0.25, l1_ratio=0.25, loss=log, penalty=elasticnet, power_t=0.25, shuffle=False, warm_start=True, score=0.549, total=   0.0s\n",
      "[CV] alpha=0.25, average=False, epsilon=0.25, l1_ratio=0.25, loss=log, penalty=elasticnet, power_t=0.25, shuffle=False, warm_start=True \n",
      "[CV]  alpha=0.25, average=False, epsilon=0.25, l1_ratio=0.25, loss=log, penalty=elasticnet, power_t=0.25, shuffle=False, warm_start=True, score=0.549, total=   0.0s\n",
      "[CV] alpha=0.25, average=False, epsilon=0.25, l1_ratio=0.25, loss=log, penalty=elasticnet, power_t=0.25, shuffle=False, warm_start=False \n"
     ]
    },
    {
     "name": "stderr",
     "output_type": "stream",
     "text": [
      "[Parallel(n_jobs=1)]: Using backend SequentialBackend with 1 concurrent workers.\n",
      "[Parallel(n_jobs=1)]: Done   1 out of   1 | elapsed:    0.0s remaining:    0.0s\n",
      "[Parallel(n_jobs=1)]: Done   2 out of   2 | elapsed:    0.0s remaining:    0.0s\n",
      "[Parallel(n_jobs=1)]: Done   3 out of   3 | elapsed:    0.0s remaining:    0.0s\n",
      "[Parallel(n_jobs=1)]: Done   4 out of   4 | elapsed:    0.0s remaining:    0.0s\n",
      "[Parallel(n_jobs=1)]: Done   5 out of   5 | elapsed:    0.1s remaining:    0.0s\n",
      "[Parallel(n_jobs=1)]: Done   6 out of   6 | elapsed:    0.1s remaining:    0.0s\n",
      "[Parallel(n_jobs=1)]: Done   7 out of   7 | elapsed:    0.1s remaining:    0.0s\n",
      "[Parallel(n_jobs=1)]: Done   8 out of   8 | elapsed:    0.1s remaining:    0.0s\n",
      "[Parallel(n_jobs=1)]: Done   9 out of   9 | elapsed:    0.1s remaining:    0.0s\n",
      "[Parallel(n_jobs=1)]: Done  10 out of  10 | elapsed:    0.1s remaining:    0.0s\n",
      "[Parallel(n_jobs=1)]: Done  11 out of  11 | elapsed:    0.1s remaining:    0.0s\n",
      "[Parallel(n_jobs=1)]: Done  12 out of  12 | elapsed:    0.1s remaining:    0.0s\n",
      "[Parallel(n_jobs=1)]: Done  13 out of  13 | elapsed:    0.1s remaining:    0.0s\n",
      "[Parallel(n_jobs=1)]: Done  14 out of  14 | elapsed:    0.1s remaining:    0.0s\n",
      "[Parallel(n_jobs=1)]: Done  15 out of  15 | elapsed:    0.1s remaining:    0.0s\n",
      "[Parallel(n_jobs=1)]: Done  16 out of  16 | elapsed:    0.1s remaining:    0.0s\n",
      "[Parallel(n_jobs=1)]: Done  17 out of  17 | elapsed:    0.2s remaining:    0.0s\n",
      "[Parallel(n_jobs=1)]: Done  18 out of  18 | elapsed:    0.2s remaining:    0.0s\n",
      "[Parallel(n_jobs=1)]: Done  19 out of  19 | elapsed:    0.2s remaining:    0.0s\n",
      "[Parallel(n_jobs=1)]: Done  20 out of  20 | elapsed:    0.2s remaining:    0.0s\n",
      "[Parallel(n_jobs=1)]: Done  21 out of  21 | elapsed:    0.2s remaining:    0.0s\n",
      "[Parallel(n_jobs=1)]: Done  22 out of  22 | elapsed:    0.2s remaining:    0.0s\n"
     ]
    },
    {
     "name": "stdout",
     "output_type": "stream",
     "text": [
      "[CV]  alpha=0.25, average=False, epsilon=0.25, l1_ratio=0.25, loss=log, penalty=elasticnet, power_t=0.25, shuffle=False, warm_start=False, score=0.549, total=   0.0s\n",
      "[CV] alpha=0.25, average=False, epsilon=0.25, l1_ratio=0.25, loss=log, penalty=elasticnet, power_t=0.25, shuffle=False, warm_start=False \n",
      "[CV]  alpha=0.25, average=False, epsilon=0.25, l1_ratio=0.25, loss=log, penalty=elasticnet, power_t=0.25, shuffle=False, warm_start=False, score=0.549, total=   0.0s\n",
      "[CV] alpha=0.25, average=False, epsilon=0.25, l1_ratio=0.25, loss=hinge, penalty=l2, power_t=0.25, shuffle=True, warm_start=True \n",
      "[CV]  alpha=0.25, average=False, epsilon=0.25, l1_ratio=0.25, loss=hinge, penalty=l2, power_t=0.25, shuffle=True, warm_start=True, score=0.549, total=   0.0s\n",
      "[CV] alpha=0.25, average=False, epsilon=0.25, l1_ratio=0.25, loss=hinge, penalty=l2, power_t=0.25, shuffle=True, warm_start=True \n",
      "[CV]  alpha=0.25, average=False, epsilon=0.25, l1_ratio=0.25, loss=hinge, penalty=l2, power_t=0.25, shuffle=True, warm_start=True, score=0.549, total=   0.0s\n",
      "[CV] alpha=0.25, average=False, epsilon=0.25, l1_ratio=0.25, loss=hinge, penalty=l2, power_t=0.25, shuffle=True, warm_start=False \n",
      "[CV]  alpha=0.25, average=False, epsilon=0.25, l1_ratio=0.25, loss=hinge, penalty=l2, power_t=0.25, shuffle=True, warm_start=False, score=0.549, total=   0.0s\n",
      "[CV] alpha=0.25, average=False, epsilon=0.25, l1_ratio=0.25, loss=hinge, penalty=l2, power_t=0.25, shuffle=True, warm_start=False \n",
      "[CV]  alpha=0.25, average=False, epsilon=0.25, l1_ratio=0.25, loss=hinge, penalty=l2, power_t=0.25, shuffle=True, warm_start=False, score=0.549, total=   0.0s\n",
      "[CV] alpha=0.25, average=False, epsilon=0.25, l1_ratio=0.25, loss=hinge, penalty=l2, power_t=0.25, shuffle=False, warm_start=True \n",
      "[CV]  alpha=0.25, average=False, epsilon=0.25, l1_ratio=0.25, loss=hinge, penalty=l2, power_t=0.25, shuffle=False, warm_start=True, score=0.549, total=   0.0s\n",
      "[CV] alpha=0.25, average=False, epsilon=0.25, l1_ratio=0.25, loss=hinge, penalty=l2, power_t=0.25, shuffle=False, warm_start=True \n",
      "[CV]  alpha=0.25, average=False, epsilon=0.25, l1_ratio=0.25, loss=hinge, penalty=l2, power_t=0.25, shuffle=False, warm_start=True, score=0.549, total=   0.0s\n",
      "[CV] alpha=0.25, average=False, epsilon=0.25, l1_ratio=0.25, loss=hinge, penalty=l2, power_t=0.25, shuffle=False, warm_start=False \n",
      "[CV]  alpha=0.25, average=False, epsilon=0.25, l1_ratio=0.25, loss=hinge, penalty=l2, power_t=0.25, shuffle=False, warm_start=False, score=0.549, total=   0.0s\n",
      "[CV] alpha=0.25, average=False, epsilon=0.25, l1_ratio=0.25, loss=hinge, penalty=l2, power_t=0.25, shuffle=False, warm_start=False \n",
      "[CV]  alpha=0.25, average=False, epsilon=0.25, l1_ratio=0.25, loss=hinge, penalty=l2, power_t=0.25, shuffle=False, warm_start=False, score=0.549, total=   0.0s\n",
      "[CV] alpha=0.25, average=False, epsilon=0.25, l1_ratio=0.25, loss=hinge, penalty=l1, power_t=0.25, shuffle=True, warm_start=True \n",
      "[CV]  alpha=0.25, average=False, epsilon=0.25, l1_ratio=0.25, loss=hinge, penalty=l1, power_t=0.25, shuffle=True, warm_start=True, score=0.549, total=   0.0s\n",
      "[CV] alpha=0.25, average=False, epsilon=0.25, l1_ratio=0.25, loss=hinge, penalty=l1, power_t=0.25, shuffle=True, warm_start=True \n",
      "[CV]  alpha=0.25, average=False, epsilon=0.25, l1_ratio=0.25, loss=hinge, penalty=l1, power_t=0.25, shuffle=True, warm_start=True, score=0.549, total=   0.0s\n",
      "[CV] alpha=0.25, average=False, epsilon=0.25, l1_ratio=0.25, loss=hinge, penalty=l1, power_t=0.25, shuffle=True, warm_start=False \n",
      "[CV]  alpha=0.25, average=False, epsilon=0.25, l1_ratio=0.25, loss=hinge, penalty=l1, power_t=0.25, shuffle=True, warm_start=False, score=0.549, total=   0.0s\n",
      "[CV] alpha=0.25, average=False, epsilon=0.25, l1_ratio=0.25, loss=hinge, penalty=l1, power_t=0.25, shuffle=True, warm_start=False \n",
      "[CV]  alpha=0.25, average=False, epsilon=0.25, l1_ratio=0.25, loss=hinge, penalty=l1, power_t=0.25, shuffle=True, warm_start=False, score=0.549, total=   0.0s\n",
      "[CV] alpha=0.25, average=False, epsilon=0.25, l1_ratio=0.25, loss=hinge, penalty=l1, power_t=0.25, shuffle=False, warm_start=True \n",
      "[CV]  alpha=0.25, average=False, epsilon=0.25, l1_ratio=0.25, loss=hinge, penalty=l1, power_t=0.25, shuffle=False, warm_start=True, score=0.549, total=   0.0s\n",
      "[CV] alpha=0.25, average=False, epsilon=0.25, l1_ratio=0.25, loss=hinge, penalty=l1, power_t=0.25, shuffle=False, warm_start=True \n",
      "[CV]  alpha=0.25, average=False, epsilon=0.25, l1_ratio=0.25, loss=hinge, penalty=l1, power_t=0.25, shuffle=False, warm_start=True, score=0.549, total=   0.0s\n",
      "[CV] alpha=0.25, average=False, epsilon=0.25, l1_ratio=0.25, loss=hinge, penalty=l1, power_t=0.25, shuffle=False, warm_start=False \n",
      "[CV]  alpha=0.25, average=False, epsilon=0.25, l1_ratio=0.25, loss=hinge, penalty=l1, power_t=0.25, shuffle=False, warm_start=False, score=0.549, total=   0.0s\n",
      "[CV] alpha=0.25, average=False, epsilon=0.25, l1_ratio=0.25, loss=hinge, penalty=l1, power_t=0.25, shuffle=False, warm_start=False \n",
      "[CV]  alpha=0.25, average=False, epsilon=0.25, l1_ratio=0.25, loss=hinge, penalty=l1, power_t=0.25, shuffle=False, warm_start=False, score=0.549, total=   0.0s\n",
      "[CV] alpha=0.25, average=False, epsilon=0.25, l1_ratio=0.25, loss=hinge, penalty=elasticnet, power_t=0.25, shuffle=True, warm_start=True \n",
      "[CV]  alpha=0.25, average=False, epsilon=0.25, l1_ratio=0.25, loss=hinge, penalty=elasticnet, power_t=0.25, shuffle=True, warm_start=True, score=0.549, total=   0.0s\n",
      "[CV] alpha=0.25, average=False, epsilon=0.25, l1_ratio=0.25, loss=hinge, penalty=elasticnet, power_t=0.25, shuffle=True, warm_start=True \n",
      "[CV]  alpha=0.25, average=False, epsilon=0.25, l1_ratio=0.25, loss=hinge, penalty=elasticnet, power_t=0.25, shuffle=True, warm_start=True, score=0.549, total=   0.0s\n",
      "[CV] alpha=0.25, average=False, epsilon=0.25, l1_ratio=0.25, loss=hinge, penalty=elasticnet, power_t=0.25, shuffle=True, warm_start=False \n",
      "[CV]  alpha=0.25, average=False, epsilon=0.25, l1_ratio=0.25, loss=hinge, penalty=elasticnet, power_t=0.25, shuffle=True, warm_start=False, score=0.549, total=   0.0s\n",
      "[CV] alpha=0.25, average=False, epsilon=0.25, l1_ratio=0.25, loss=hinge, penalty=elasticnet, power_t=0.25, shuffle=True, warm_start=False \n",
      "[CV]  alpha=0.25, average=False, epsilon=0.25, l1_ratio=0.25, loss=hinge, penalty=elasticnet, power_t=0.25, shuffle=True, warm_start=False, score=0.549, total=   0.0s\n",
      "[CV] alpha=0.25, average=False, epsilon=0.25, l1_ratio=0.25, loss=hinge, penalty=elasticnet, power_t=0.25, shuffle=False, warm_start=True \n"
     ]
    },
    {
     "name": "stderr",
     "output_type": "stream",
     "text": [
      "[Parallel(n_jobs=1)]: Done  23 out of  23 | elapsed:    0.2s remaining:    0.0s\n",
      "[Parallel(n_jobs=1)]: Done  24 out of  24 | elapsed:    0.2s remaining:    0.0s\n"
     ]
    },
    {
     "name": "stdout",
     "output_type": "stream",
     "text": [
      "[CV]  alpha=0.25, average=False, epsilon=0.25, l1_ratio=0.25, loss=hinge, penalty=elasticnet, power_t=0.25, shuffle=False, warm_start=True, score=0.549, total=   0.0s\n",
      "[CV] alpha=0.25, average=False, epsilon=0.25, l1_ratio=0.25, loss=hinge, penalty=elasticnet, power_t=0.25, shuffle=False, warm_start=True \n",
      "[CV]  alpha=0.25, average=False, epsilon=0.25, l1_ratio=0.25, loss=hinge, penalty=elasticnet, power_t=0.25, shuffle=False, warm_start=True, score=0.549, total=   0.0s\n",
      "[CV] alpha=0.25, average=False, epsilon=0.25, l1_ratio=0.25, loss=hinge, penalty=elasticnet, power_t=0.25, shuffle=False, warm_start=False \n",
      "[CV]  alpha=0.25, average=False, epsilon=0.25, l1_ratio=0.25, loss=hinge, penalty=elasticnet, power_t=0.25, shuffle=False, warm_start=False, score=0.549, total=   0.0s\n",
      "[CV] alpha=0.25, average=False, epsilon=0.25, l1_ratio=0.25, loss=hinge, penalty=elasticnet, power_t=0.25, shuffle=False, warm_start=False \n",
      "[CV]  alpha=0.25, average=False, epsilon=0.25, l1_ratio=0.25, loss=hinge, penalty=elasticnet, power_t=0.25, shuffle=False, warm_start=False, score=0.549, total=   0.0s\n",
      "[CV] alpha=0.25, average=False, epsilon=0.25, l1_ratio=0.25, loss=perceptron, penalty=l2, power_t=0.25, shuffle=True, warm_start=True \n",
      "[CV]  alpha=0.25, average=False, epsilon=0.25, l1_ratio=0.25, loss=perceptron, penalty=l2, power_t=0.25, shuffle=True, warm_start=True, score=0.549, total=   0.0s\n",
      "[CV] alpha=0.25, average=False, epsilon=0.25, l1_ratio=0.25, loss=perceptron, penalty=l2, power_t=0.25, shuffle=True, warm_start=True \n",
      "[CV]  alpha=0.25, average=False, epsilon=0.25, l1_ratio=0.25, loss=perceptron, penalty=l2, power_t=0.25, shuffle=True, warm_start=True, score=0.549, total=   0.0s\n",
      "[CV] alpha=0.25, average=False, epsilon=0.25, l1_ratio=0.25, loss=perceptron, penalty=l2, power_t=0.25, shuffle=True, warm_start=False \n",
      "[CV]  alpha=0.25, average=False, epsilon=0.25, l1_ratio=0.25, loss=perceptron, penalty=l2, power_t=0.25, shuffle=True, warm_start=False, score=0.549, total=   0.0s\n",
      "[CV] alpha=0.25, average=False, epsilon=0.25, l1_ratio=0.25, loss=perceptron, penalty=l2, power_t=0.25, shuffle=True, warm_start=False \n",
      "[CV]  alpha=0.25, average=False, epsilon=0.25, l1_ratio=0.25, loss=perceptron, penalty=l2, power_t=0.25, shuffle=True, warm_start=False, score=0.549, total=   0.0s\n",
      "[CV] alpha=0.25, average=False, epsilon=0.25, l1_ratio=0.25, loss=perceptron, penalty=l2, power_t=0.25, shuffle=False, warm_start=True \n",
      "[CV]  alpha=0.25, average=False, epsilon=0.25, l1_ratio=0.25, loss=perceptron, penalty=l2, power_t=0.25, shuffle=False, warm_start=True, score=0.549, total=   0.0s\n",
      "[CV] alpha=0.25, average=False, epsilon=0.25, l1_ratio=0.25, loss=perceptron, penalty=l2, power_t=0.25, shuffle=False, warm_start=True \n",
      "[CV]  alpha=0.25, average=False, epsilon=0.25, l1_ratio=0.25, loss=perceptron, penalty=l2, power_t=0.25, shuffle=False, warm_start=True, score=0.549, total=   0.0s\n",
      "[CV] alpha=0.25, average=False, epsilon=0.25, l1_ratio=0.25, loss=perceptron, penalty=l2, power_t=0.25, shuffle=False, warm_start=False \n",
      "[CV]  alpha=0.25, average=False, epsilon=0.25, l1_ratio=0.25, loss=perceptron, penalty=l2, power_t=0.25, shuffle=False, warm_start=False, score=0.549, total=   0.0s\n",
      "[CV] alpha=0.25, average=False, epsilon=0.25, l1_ratio=0.25, loss=perceptron, penalty=l2, power_t=0.25, shuffle=False, warm_start=False \n",
      "[CV]  alpha=0.25, average=False, epsilon=0.25, l1_ratio=0.25, loss=perceptron, penalty=l2, power_t=0.25, shuffle=False, warm_start=False, score=0.549, total=   0.0s\n",
      "[CV] alpha=0.25, average=False, epsilon=0.25, l1_ratio=0.25, loss=perceptron, penalty=l1, power_t=0.25, shuffle=True, warm_start=True \n",
      "[CV]  alpha=0.25, average=False, epsilon=0.25, l1_ratio=0.25, loss=perceptron, penalty=l1, power_t=0.25, shuffle=True, warm_start=True, score=0.549, total=   0.0s\n",
      "[CV] alpha=0.25, average=False, epsilon=0.25, l1_ratio=0.25, loss=perceptron, penalty=l1, power_t=0.25, shuffle=True, warm_start=True \n",
      "[CV]  alpha=0.25, average=False, epsilon=0.25, l1_ratio=0.25, loss=perceptron, penalty=l1, power_t=0.25, shuffle=True, warm_start=True, score=0.549, total=   0.0s\n",
      "[CV] alpha=0.25, average=False, epsilon=0.25, l1_ratio=0.25, loss=perceptron, penalty=l1, power_t=0.25, shuffle=True, warm_start=False \n",
      "[CV]  alpha=0.25, average=False, epsilon=0.25, l1_ratio=0.25, loss=perceptron, penalty=l1, power_t=0.25, shuffle=True, warm_start=False, score=0.161, total=   0.0s\n",
      "[CV] alpha=0.25, average=False, epsilon=0.25, l1_ratio=0.25, loss=perceptron, penalty=l1, power_t=0.25, shuffle=True, warm_start=False \n",
      "[CV]  alpha=0.25, average=False, epsilon=0.25, l1_ratio=0.25, loss=perceptron, penalty=l1, power_t=0.25, shuffle=True, warm_start=False, score=0.549, total=   0.0s\n",
      "[CV] alpha=0.25, average=False, epsilon=0.25, l1_ratio=0.25, loss=perceptron, penalty=l1, power_t=0.25, shuffle=False, warm_start=True \n",
      "[CV]  alpha=0.25, average=False, epsilon=0.25, l1_ratio=0.25, loss=perceptron, penalty=l1, power_t=0.25, shuffle=False, warm_start=True, score=0.290, total=   0.0s\n",
      "[CV] alpha=0.25, average=False, epsilon=0.25, l1_ratio=0.25, loss=perceptron, penalty=l1, power_t=0.25, shuffle=False, warm_start=True \n",
      "[CV]  alpha=0.25, average=False, epsilon=0.25, l1_ratio=0.25, loss=perceptron, penalty=l1, power_t=0.25, shuffle=False, warm_start=True, score=0.549, total=   0.0s\n",
      "[CV] alpha=0.25, average=False, epsilon=0.25, l1_ratio=0.25, loss=perceptron, penalty=l1, power_t=0.25, shuffle=False, warm_start=False \n",
      "[CV]  alpha=0.25, average=False, epsilon=0.25, l1_ratio=0.25, loss=perceptron, penalty=l1, power_t=0.25, shuffle=False, warm_start=False, score=0.290, total=   0.0s\n",
      "[CV] alpha=0.25, average=False, epsilon=0.25, l1_ratio=0.25, loss=perceptron, penalty=l1, power_t=0.25, shuffle=False, warm_start=False \n",
      "[CV]  alpha=0.25, average=False, epsilon=0.25, l1_ratio=0.25, loss=perceptron, penalty=l1, power_t=0.25, shuffle=False, warm_start=False, score=0.549, total=   0.0s\n",
      "[CV] alpha=0.25, average=False, epsilon=0.25, l1_ratio=0.25, loss=perceptron, penalty=elasticnet, power_t=0.25, shuffle=True, warm_start=True \n",
      "[CV]  alpha=0.25, average=False, epsilon=0.25, l1_ratio=0.25, loss=perceptron, penalty=elasticnet, power_t=0.25, shuffle=True, warm_start=True, score=0.290, total=   0.0s\n",
      "[CV] alpha=0.25, average=False, epsilon=0.25, l1_ratio=0.25, loss=perceptron, penalty=elasticnet, power_t=0.25, shuffle=True, warm_start=True \n",
      "[CV]  alpha=0.25, average=False, epsilon=0.25, l1_ratio=0.25, loss=perceptron, penalty=elasticnet, power_t=0.25, shuffle=True, warm_start=True, score=0.161, total=   0.0s\n",
      "[CV] alpha=0.25, average=False, epsilon=0.25, l1_ratio=0.25, loss=perceptron, penalty=elasticnet, power_t=0.25, shuffle=True, warm_start=False \n",
      "[CV]  alpha=0.25, average=False, epsilon=0.25, l1_ratio=0.25, loss=perceptron, penalty=elasticnet, power_t=0.25, shuffle=True, warm_start=False, score=0.549, total=   0.0s\n",
      "[CV] alpha=0.25, average=False, epsilon=0.25, l1_ratio=0.25, loss=perceptron, penalty=elasticnet, power_t=0.25, shuffle=True, warm_start=False \n",
      "[CV]  alpha=0.25, average=False, epsilon=0.25, l1_ratio=0.25, loss=perceptron, penalty=elasticnet, power_t=0.25, shuffle=True, warm_start=False, score=0.290, total=   0.0s\n",
      "[CV] alpha=0.25, average=False, epsilon=0.25, l1_ratio=0.25, loss=perceptron, penalty=elasticnet, power_t=0.25, shuffle=False, warm_start=True \n",
      "[CV]  alpha=0.25, average=False, epsilon=0.25, l1_ratio=0.25, loss=perceptron, penalty=elasticnet, power_t=0.25, shuffle=False, warm_start=True, score=0.290, total=   0.0s\n",
      "[CV] alpha=0.25, average=False, epsilon=0.25, l1_ratio=0.25, loss=perceptron, penalty=elasticnet, power_t=0.25, shuffle=False, warm_start=True \n",
      "[CV]  alpha=0.25, average=False, epsilon=0.25, l1_ratio=0.25, loss=perceptron, penalty=elasticnet, power_t=0.25, shuffle=False, warm_start=True, score=0.549, total=   0.0s\n",
      "[CV] alpha=0.25, average=False, epsilon=0.25, l1_ratio=0.25, loss=perceptron, penalty=elasticnet, power_t=0.25, shuffle=False, warm_start=False \n",
      "[CV]  alpha=0.25, average=False, epsilon=0.25, l1_ratio=0.25, loss=perceptron, penalty=elasticnet, power_t=0.25, shuffle=False, warm_start=False, score=0.290, total=   0.0s\n",
      "[CV] alpha=0.25, average=False, epsilon=0.25, l1_ratio=0.25, loss=perceptron, penalty=elasticnet, power_t=0.25, shuffle=False, warm_start=False \n",
      "[CV]  alpha=0.25, average=False, epsilon=0.25, l1_ratio=0.25, loss=perceptron, penalty=elasticnet, power_t=0.25, shuffle=False, warm_start=False, score=0.549, total=   0.0s\n",
      "[CV] alpha=0.25, average=True, epsilon=0.25, l1_ratio=0.25, loss=log, penalty=l2, power_t=0.25, shuffle=True, warm_start=True \n",
      "[CV]  alpha=0.25, average=True, epsilon=0.25, l1_ratio=0.25, loss=log, penalty=l2, power_t=0.25, shuffle=True, warm_start=True, score=0.549, total=   0.0s\n",
      "[CV] alpha=0.25, average=True, epsilon=0.25, l1_ratio=0.25, loss=log, penalty=l2, power_t=0.25, shuffle=True, warm_start=True \n",
      "[CV]  alpha=0.25, average=True, epsilon=0.25, l1_ratio=0.25, loss=log, penalty=l2, power_t=0.25, shuffle=True, warm_start=True, score=0.549, total=   0.0s\n",
      "[CV] alpha=0.25, average=True, epsilon=0.25, l1_ratio=0.25, loss=log, penalty=l2, power_t=0.25, shuffle=True, warm_start=False \n",
      "[CV]  alpha=0.25, average=True, epsilon=0.25, l1_ratio=0.25, loss=log, penalty=l2, power_t=0.25, shuffle=True, warm_start=False, score=0.549, total=   0.0s\n",
      "[CV] alpha=0.25, average=True, epsilon=0.25, l1_ratio=0.25, loss=log, penalty=l2, power_t=0.25, shuffle=True, warm_start=False \n",
      "[CV]  alpha=0.25, average=True, epsilon=0.25, l1_ratio=0.25, loss=log, penalty=l2, power_t=0.25, shuffle=True, warm_start=False, score=0.549, total=   0.0s\n",
      "[CV] alpha=0.25, average=True, epsilon=0.25, l1_ratio=0.25, loss=log, penalty=l2, power_t=0.25, shuffle=False, warm_start=True \n",
      "[CV]  alpha=0.25, average=True, epsilon=0.25, l1_ratio=0.25, loss=log, penalty=l2, power_t=0.25, shuffle=False, warm_start=True, score=0.549, total=   0.0s\n",
      "[CV] alpha=0.25, average=True, epsilon=0.25, l1_ratio=0.25, loss=log, penalty=l2, power_t=0.25, shuffle=False, warm_start=True \n",
      "[CV]  alpha=0.25, average=True, epsilon=0.25, l1_ratio=0.25, loss=log, penalty=l2, power_t=0.25, shuffle=False, warm_start=True, score=0.549, total=   0.0s\n",
      "[CV] alpha=0.25, average=True, epsilon=0.25, l1_ratio=0.25, loss=log, penalty=l2, power_t=0.25, shuffle=False, warm_start=False \n",
      "[CV]  alpha=0.25, average=True, epsilon=0.25, l1_ratio=0.25, loss=log, penalty=l2, power_t=0.25, shuffle=False, warm_start=False, score=0.549, total=   0.0s\n",
      "[CV] alpha=0.25, average=True, epsilon=0.25, l1_ratio=0.25, loss=log, penalty=l2, power_t=0.25, shuffle=False, warm_start=False \n",
      "[CV]  alpha=0.25, average=True, epsilon=0.25, l1_ratio=0.25, loss=log, penalty=l2, power_t=0.25, shuffle=False, warm_start=False, score=0.549, total=   0.0s\n",
      "[CV] alpha=0.25, average=True, epsilon=0.25, l1_ratio=0.25, loss=log, penalty=l1, power_t=0.25, shuffle=True, warm_start=True \n",
      "[CV]  alpha=0.25, average=True, epsilon=0.25, l1_ratio=0.25, loss=log, penalty=l1, power_t=0.25, shuffle=True, warm_start=True, score=0.549, total=   0.0s\n",
      "[CV] alpha=0.25, average=True, epsilon=0.25, l1_ratio=0.25, loss=log, penalty=l1, power_t=0.25, shuffle=True, warm_start=True \n",
      "[CV]  alpha=0.25, average=True, epsilon=0.25, l1_ratio=0.25, loss=log, penalty=l1, power_t=0.25, shuffle=True, warm_start=True, score=0.549, total=   0.0s\n",
      "[CV] alpha=0.25, average=True, epsilon=0.25, l1_ratio=0.25, loss=log, penalty=l1, power_t=0.25, shuffle=True, warm_start=False \n",
      "[CV]  alpha=0.25, average=True, epsilon=0.25, l1_ratio=0.25, loss=log, penalty=l1, power_t=0.25, shuffle=True, warm_start=False, score=0.549, total=   0.0s\n",
      "[CV] alpha=0.25, average=True, epsilon=0.25, l1_ratio=0.25, loss=log, penalty=l1, power_t=0.25, shuffle=True, warm_start=False \n",
      "[CV]  alpha=0.25, average=True, epsilon=0.25, l1_ratio=0.25, loss=log, penalty=l1, power_t=0.25, shuffle=True, warm_start=False, score=0.549, total=   0.0s\n",
      "[CV] alpha=0.25, average=True, epsilon=0.25, l1_ratio=0.25, loss=log, penalty=l1, power_t=0.25, shuffle=False, warm_start=True \n",
      "[CV]  alpha=0.25, average=True, epsilon=0.25, l1_ratio=0.25, loss=log, penalty=l1, power_t=0.25, shuffle=False, warm_start=True, score=0.549, total=   0.0s\n",
      "[CV] alpha=0.25, average=True, epsilon=0.25, l1_ratio=0.25, loss=log, penalty=l1, power_t=0.25, shuffle=False, warm_start=True \n",
      "[CV]  alpha=0.25, average=True, epsilon=0.25, l1_ratio=0.25, loss=log, penalty=l1, power_t=0.25, shuffle=False, warm_start=True, score=0.549, total=   0.0s\n",
      "[CV] alpha=0.25, average=True, epsilon=0.25, l1_ratio=0.25, loss=log, penalty=l1, power_t=0.25, shuffle=False, warm_start=False \n"
     ]
    },
    {
     "name": "stdout",
     "output_type": "stream",
     "text": [
      "[CV]  alpha=0.25, average=True, epsilon=0.25, l1_ratio=0.25, loss=log, penalty=l1, power_t=0.25, shuffle=False, warm_start=False, score=0.549, total=   0.0s\n",
      "[CV] alpha=0.25, average=True, epsilon=0.25, l1_ratio=0.25, loss=log, penalty=l1, power_t=0.25, shuffle=False, warm_start=False \n",
      "[CV]  alpha=0.25, average=True, epsilon=0.25, l1_ratio=0.25, loss=log, penalty=l1, power_t=0.25, shuffle=False, warm_start=False, score=0.549, total=   0.0s\n",
      "[CV] alpha=0.25, average=True, epsilon=0.25, l1_ratio=0.25, loss=log, penalty=elasticnet, power_t=0.25, shuffle=True, warm_start=True \n",
      "[CV]  alpha=0.25, average=True, epsilon=0.25, l1_ratio=0.25, loss=log, penalty=elasticnet, power_t=0.25, shuffle=True, warm_start=True, score=0.549, total=   0.0s\n",
      "[CV] alpha=0.25, average=True, epsilon=0.25, l1_ratio=0.25, loss=log, penalty=elasticnet, power_t=0.25, shuffle=True, warm_start=True \n",
      "[CV]  alpha=0.25, average=True, epsilon=0.25, l1_ratio=0.25, loss=log, penalty=elasticnet, power_t=0.25, shuffle=True, warm_start=True, score=0.549, total=   0.0s\n",
      "[CV] alpha=0.25, average=True, epsilon=0.25, l1_ratio=0.25, loss=log, penalty=elasticnet, power_t=0.25, shuffle=True, warm_start=False \n",
      "[CV]  alpha=0.25, average=True, epsilon=0.25, l1_ratio=0.25, loss=log, penalty=elasticnet, power_t=0.25, shuffle=True, warm_start=False, score=0.549, total=   0.0s\n",
      "[CV] alpha=0.25, average=True, epsilon=0.25, l1_ratio=0.25, loss=log, penalty=elasticnet, power_t=0.25, shuffle=True, warm_start=False \n",
      "[CV]  alpha=0.25, average=True, epsilon=0.25, l1_ratio=0.25, loss=log, penalty=elasticnet, power_t=0.25, shuffle=True, warm_start=False, score=0.549, total=   0.0s\n",
      "[CV] alpha=0.25, average=True, epsilon=0.25, l1_ratio=0.25, loss=log, penalty=elasticnet, power_t=0.25, shuffle=False, warm_start=True \n",
      "[CV]  alpha=0.25, average=True, epsilon=0.25, l1_ratio=0.25, loss=log, penalty=elasticnet, power_t=0.25, shuffle=False, warm_start=True, score=0.549, total=   0.0s\n",
      "[CV] alpha=0.25, average=True, epsilon=0.25, l1_ratio=0.25, loss=log, penalty=elasticnet, power_t=0.25, shuffle=False, warm_start=True \n",
      "[CV]  alpha=0.25, average=True, epsilon=0.25, l1_ratio=0.25, loss=log, penalty=elasticnet, power_t=0.25, shuffle=False, warm_start=True, score=0.549, total=   0.0s\n",
      "[CV] alpha=0.25, average=True, epsilon=0.25, l1_ratio=0.25, loss=log, penalty=elasticnet, power_t=0.25, shuffle=False, warm_start=False \n",
      "[CV]  alpha=0.25, average=True, epsilon=0.25, l1_ratio=0.25, loss=log, penalty=elasticnet, power_t=0.25, shuffle=False, warm_start=False, score=0.549, total=   0.0s\n",
      "[CV] alpha=0.25, average=True, epsilon=0.25, l1_ratio=0.25, loss=log, penalty=elasticnet, power_t=0.25, shuffle=False, warm_start=False \n",
      "[CV]  alpha=0.25, average=True, epsilon=0.25, l1_ratio=0.25, loss=log, penalty=elasticnet, power_t=0.25, shuffle=False, warm_start=False, score=0.549, total=   0.0s\n",
      "[CV] alpha=0.25, average=True, epsilon=0.25, l1_ratio=0.25, loss=hinge, penalty=l2, power_t=0.25, shuffle=True, warm_start=True \n",
      "[CV]  alpha=0.25, average=True, epsilon=0.25, l1_ratio=0.25, loss=hinge, penalty=l2, power_t=0.25, shuffle=True, warm_start=True, score=0.549, total=   0.0s\n",
      "[CV] alpha=0.25, average=True, epsilon=0.25, l1_ratio=0.25, loss=hinge, penalty=l2, power_t=0.25, shuffle=True, warm_start=True \n",
      "[CV]  alpha=0.25, average=True, epsilon=0.25, l1_ratio=0.25, loss=hinge, penalty=l2, power_t=0.25, shuffle=True, warm_start=True, score=0.549, total=   0.0s\n",
      "[CV] alpha=0.25, average=True, epsilon=0.25, l1_ratio=0.25, loss=hinge, penalty=l2, power_t=0.25, shuffle=True, warm_start=False \n",
      "[CV]  alpha=0.25, average=True, epsilon=0.25, l1_ratio=0.25, loss=hinge, penalty=l2, power_t=0.25, shuffle=True, warm_start=False, score=0.549, total=   0.0s\n",
      "[CV] alpha=0.25, average=True, epsilon=0.25, l1_ratio=0.25, loss=hinge, penalty=l2, power_t=0.25, shuffle=True, warm_start=False \n",
      "[CV]  alpha=0.25, average=True, epsilon=0.25, l1_ratio=0.25, loss=hinge, penalty=l2, power_t=0.25, shuffle=True, warm_start=False, score=0.549, total=   0.0s\n",
      "[CV] alpha=0.25, average=True, epsilon=0.25, l1_ratio=0.25, loss=hinge, penalty=l2, power_t=0.25, shuffle=False, warm_start=True \n",
      "[CV]  alpha=0.25, average=True, epsilon=0.25, l1_ratio=0.25, loss=hinge, penalty=l2, power_t=0.25, shuffle=False, warm_start=True, score=0.549, total=   0.0s\n",
      "[CV] alpha=0.25, average=True, epsilon=0.25, l1_ratio=0.25, loss=hinge, penalty=l2, power_t=0.25, shuffle=False, warm_start=True \n",
      "[CV]  alpha=0.25, average=True, epsilon=0.25, l1_ratio=0.25, loss=hinge, penalty=l2, power_t=0.25, shuffle=False, warm_start=True, score=0.549, total=   0.0s\n",
      "[CV] alpha=0.25, average=True, epsilon=0.25, l1_ratio=0.25, loss=hinge, penalty=l2, power_t=0.25, shuffle=False, warm_start=False \n",
      "[CV]  alpha=0.25, average=True, epsilon=0.25, l1_ratio=0.25, loss=hinge, penalty=l2, power_t=0.25, shuffle=False, warm_start=False, score=0.549, total=   0.0s\n",
      "[CV] alpha=0.25, average=True, epsilon=0.25, l1_ratio=0.25, loss=hinge, penalty=l2, power_t=0.25, shuffle=False, warm_start=False \n",
      "[CV]  alpha=0.25, average=True, epsilon=0.25, l1_ratio=0.25, loss=hinge, penalty=l2, power_t=0.25, shuffle=False, warm_start=False, score=0.549, total=   0.0s\n",
      "[CV] alpha=0.25, average=True, epsilon=0.25, l1_ratio=0.25, loss=hinge, penalty=l1, power_t=0.25, shuffle=True, warm_start=True \n",
      "[CV]  alpha=0.25, average=True, epsilon=0.25, l1_ratio=0.25, loss=hinge, penalty=l1, power_t=0.25, shuffle=True, warm_start=True, score=0.549, total=   0.0s\n",
      "[CV] alpha=0.25, average=True, epsilon=0.25, l1_ratio=0.25, loss=hinge, penalty=l1, power_t=0.25, shuffle=True, warm_start=True \n",
      "[CV]  alpha=0.25, average=True, epsilon=0.25, l1_ratio=0.25, loss=hinge, penalty=l1, power_t=0.25, shuffle=True, warm_start=True, score=0.549, total=   0.0s\n",
      "[CV] alpha=0.25, average=True, epsilon=0.25, l1_ratio=0.25, loss=hinge, penalty=l1, power_t=0.25, shuffle=True, warm_start=False \n",
      "[CV]  alpha=0.25, average=True, epsilon=0.25, l1_ratio=0.25, loss=hinge, penalty=l1, power_t=0.25, shuffle=True, warm_start=False, score=0.549, total=   0.0s\n",
      "[CV] alpha=0.25, average=True, epsilon=0.25, l1_ratio=0.25, loss=hinge, penalty=l1, power_t=0.25, shuffle=True, warm_start=False \n",
      "[CV]  alpha=0.25, average=True, epsilon=0.25, l1_ratio=0.25, loss=hinge, penalty=l1, power_t=0.25, shuffle=True, warm_start=False, score=0.549, total=   0.0s\n",
      "[CV] alpha=0.25, average=True, epsilon=0.25, l1_ratio=0.25, loss=hinge, penalty=l1, power_t=0.25, shuffle=False, warm_start=True \n",
      "[CV]  alpha=0.25, average=True, epsilon=0.25, l1_ratio=0.25, loss=hinge, penalty=l1, power_t=0.25, shuffle=False, warm_start=True, score=0.549, total=   0.0s\n",
      "[CV] alpha=0.25, average=True, epsilon=0.25, l1_ratio=0.25, loss=hinge, penalty=l1, power_t=0.25, shuffle=False, warm_start=True \n",
      "[CV]  alpha=0.25, average=True, epsilon=0.25, l1_ratio=0.25, loss=hinge, penalty=l1, power_t=0.25, shuffle=False, warm_start=True, score=0.549, total=   0.0s\n",
      "[CV] alpha=0.25, average=True, epsilon=0.25, l1_ratio=0.25, loss=hinge, penalty=l1, power_t=0.25, shuffle=False, warm_start=False \n",
      "[CV]  alpha=0.25, average=True, epsilon=0.25, l1_ratio=0.25, loss=hinge, penalty=l1, power_t=0.25, shuffle=False, warm_start=False, score=0.549, total=   0.0s\n",
      "[CV] alpha=0.25, average=True, epsilon=0.25, l1_ratio=0.25, loss=hinge, penalty=l1, power_t=0.25, shuffle=False, warm_start=False \n",
      "[CV]  alpha=0.25, average=True, epsilon=0.25, l1_ratio=0.25, loss=hinge, penalty=l1, power_t=0.25, shuffle=False, warm_start=False, score=0.549, total=   0.0s\n",
      "[CV] alpha=0.25, average=True, epsilon=0.25, l1_ratio=0.25, loss=hinge, penalty=elasticnet, power_t=0.25, shuffle=True, warm_start=True \n",
      "[CV]  alpha=0.25, average=True, epsilon=0.25, l1_ratio=0.25, loss=hinge, penalty=elasticnet, power_t=0.25, shuffle=True, warm_start=True, score=0.549, total=   0.0s\n",
      "[CV] alpha=0.25, average=True, epsilon=0.25, l1_ratio=0.25, loss=hinge, penalty=elasticnet, power_t=0.25, shuffle=True, warm_start=True \n",
      "[CV]  alpha=0.25, average=True, epsilon=0.25, l1_ratio=0.25, loss=hinge, penalty=elasticnet, power_t=0.25, shuffle=True, warm_start=True, score=0.549, total=   0.0s\n",
      "[CV] alpha=0.25, average=True, epsilon=0.25, l1_ratio=0.25, loss=hinge, penalty=elasticnet, power_t=0.25, shuffle=True, warm_start=False \n",
      "[CV]  alpha=0.25, average=True, epsilon=0.25, l1_ratio=0.25, loss=hinge, penalty=elasticnet, power_t=0.25, shuffle=True, warm_start=False, score=0.549, total=   0.0s\n",
      "[CV] alpha=0.25, average=True, epsilon=0.25, l1_ratio=0.25, loss=hinge, penalty=elasticnet, power_t=0.25, shuffle=True, warm_start=False \n",
      "[CV]  alpha=0.25, average=True, epsilon=0.25, l1_ratio=0.25, loss=hinge, penalty=elasticnet, power_t=0.25, shuffle=True, warm_start=False, score=0.549, total=   0.0s\n",
      "[CV] alpha=0.25, average=True, epsilon=0.25, l1_ratio=0.25, loss=hinge, penalty=elasticnet, power_t=0.25, shuffle=False, warm_start=True \n",
      "[CV]  alpha=0.25, average=True, epsilon=0.25, l1_ratio=0.25, loss=hinge, penalty=elasticnet, power_t=0.25, shuffle=False, warm_start=True, score=0.549, total=   0.0s\n",
      "[CV] alpha=0.25, average=True, epsilon=0.25, l1_ratio=0.25, loss=hinge, penalty=elasticnet, power_t=0.25, shuffle=False, warm_start=True \n",
      "[CV]  alpha=0.25, average=True, epsilon=0.25, l1_ratio=0.25, loss=hinge, penalty=elasticnet, power_t=0.25, shuffle=False, warm_start=True, score=0.549, total=   0.0s\n",
      "[CV] alpha=0.25, average=True, epsilon=0.25, l1_ratio=0.25, loss=hinge, penalty=elasticnet, power_t=0.25, shuffle=False, warm_start=False \n",
      "[CV]  alpha=0.25, average=True, epsilon=0.25, l1_ratio=0.25, loss=hinge, penalty=elasticnet, power_t=0.25, shuffle=False, warm_start=False, score=0.549, total=   0.0s\n",
      "[CV] alpha=0.25, average=True, epsilon=0.25, l1_ratio=0.25, loss=hinge, penalty=elasticnet, power_t=0.25, shuffle=False, warm_start=False \n",
      "[CV]  alpha=0.25, average=True, epsilon=0.25, l1_ratio=0.25, loss=hinge, penalty=elasticnet, power_t=0.25, shuffle=False, warm_start=False, score=0.549, total=   0.0s\n",
      "[CV] alpha=0.25, average=True, epsilon=0.25, l1_ratio=0.25, loss=perceptron, penalty=l2, power_t=0.25, shuffle=True, warm_start=True \n",
      "[CV]  alpha=0.25, average=True, epsilon=0.25, l1_ratio=0.25, loss=perceptron, penalty=l2, power_t=0.25, shuffle=True, warm_start=True, score=0.290, total=   0.0s\n",
      "[CV] alpha=0.25, average=True, epsilon=0.25, l1_ratio=0.25, loss=perceptron, penalty=l2, power_t=0.25, shuffle=True, warm_start=True \n",
      "[CV]  alpha=0.25, average=True, epsilon=0.25, l1_ratio=0.25, loss=perceptron, penalty=l2, power_t=0.25, shuffle=True, warm_start=True, score=0.549, total=   0.0s\n",
      "[CV] alpha=0.25, average=True, epsilon=0.25, l1_ratio=0.25, loss=perceptron, penalty=l2, power_t=0.25, shuffle=True, warm_start=False \n",
      "[CV]  alpha=0.25, average=True, epsilon=0.25, l1_ratio=0.25, loss=perceptron, penalty=l2, power_t=0.25, shuffle=True, warm_start=False, score=0.549, total=   0.0s\n",
      "[CV] alpha=0.25, average=True, epsilon=0.25, l1_ratio=0.25, loss=perceptron, penalty=l2, power_t=0.25, shuffle=True, warm_start=False \n"
     ]
    },
    {
     "name": "stdout",
     "output_type": "stream",
     "text": [
      "[CV]  alpha=0.25, average=True, epsilon=0.25, l1_ratio=0.25, loss=perceptron, penalty=l2, power_t=0.25, shuffle=True, warm_start=False, score=0.549, total=   0.0s\n",
      "[CV] alpha=0.25, average=True, epsilon=0.25, l1_ratio=0.25, loss=perceptron, penalty=l2, power_t=0.25, shuffle=False, warm_start=True \n",
      "[CV]  alpha=0.25, average=True, epsilon=0.25, l1_ratio=0.25, loss=perceptron, penalty=l2, power_t=0.25, shuffle=False, warm_start=True, score=0.161, total=   0.0s\n",
      "[CV] alpha=0.25, average=True, epsilon=0.25, l1_ratio=0.25, loss=perceptron, penalty=l2, power_t=0.25, shuffle=False, warm_start=True \n",
      "[CV]  alpha=0.25, average=True, epsilon=0.25, l1_ratio=0.25, loss=perceptron, penalty=l2, power_t=0.25, shuffle=False, warm_start=True, score=0.549, total=   0.0s\n",
      "[CV] alpha=0.25, average=True, epsilon=0.25, l1_ratio=0.25, loss=perceptron, penalty=l2, power_t=0.25, shuffle=False, warm_start=False \n",
      "[CV]  alpha=0.25, average=True, epsilon=0.25, l1_ratio=0.25, loss=perceptron, penalty=l2, power_t=0.25, shuffle=False, warm_start=False, score=0.161, total=   0.0s\n",
      "[CV] alpha=0.25, average=True, epsilon=0.25, l1_ratio=0.25, loss=perceptron, penalty=l2, power_t=0.25, shuffle=False, warm_start=False \n",
      "[CV]  alpha=0.25, average=True, epsilon=0.25, l1_ratio=0.25, loss=perceptron, penalty=l2, power_t=0.25, shuffle=False, warm_start=False, score=0.549, total=   0.0s\n",
      "[CV] alpha=0.25, average=True, epsilon=0.25, l1_ratio=0.25, loss=perceptron, penalty=l1, power_t=0.25, shuffle=True, warm_start=True \n",
      "[CV]  alpha=0.25, average=True, epsilon=0.25, l1_ratio=0.25, loss=perceptron, penalty=l1, power_t=0.25, shuffle=True, warm_start=True, score=0.290, total=   0.0s\n",
      "[CV] alpha=0.25, average=True, epsilon=0.25, l1_ratio=0.25, loss=perceptron, penalty=l1, power_t=0.25, shuffle=True, warm_start=True \n",
      "[CV]  alpha=0.25, average=True, epsilon=0.25, l1_ratio=0.25, loss=perceptron, penalty=l1, power_t=0.25, shuffle=True, warm_start=True, score=0.549, total=   0.0s\n",
      "[CV] alpha=0.25, average=True, epsilon=0.25, l1_ratio=0.25, loss=perceptron, penalty=l1, power_t=0.25, shuffle=True, warm_start=False \n",
      "[CV]  alpha=0.25, average=True, epsilon=0.25, l1_ratio=0.25, loss=perceptron, penalty=l1, power_t=0.25, shuffle=True, warm_start=False, score=0.549, total=   0.0s\n",
      "[CV] alpha=0.25, average=True, epsilon=0.25, l1_ratio=0.25, loss=perceptron, penalty=l1, power_t=0.25, shuffle=True, warm_start=False \n",
      "[CV]  alpha=0.25, average=True, epsilon=0.25, l1_ratio=0.25, loss=perceptron, penalty=l1, power_t=0.25, shuffle=True, warm_start=False, score=0.549, total=   0.0s\n",
      "[CV] alpha=0.25, average=True, epsilon=0.25, l1_ratio=0.25, loss=perceptron, penalty=l1, power_t=0.25, shuffle=False, warm_start=True \n",
      "[CV]  alpha=0.25, average=True, epsilon=0.25, l1_ratio=0.25, loss=perceptron, penalty=l1, power_t=0.25, shuffle=False, warm_start=True, score=0.161, total=   0.0s\n",
      "[CV] alpha=0.25, average=True, epsilon=0.25, l1_ratio=0.25, loss=perceptron, penalty=l1, power_t=0.25, shuffle=False, warm_start=True \n",
      "[CV]  alpha=0.25, average=True, epsilon=0.25, l1_ratio=0.25, loss=perceptron, penalty=l1, power_t=0.25, shuffle=False, warm_start=True, score=0.549, total=   0.0s\n",
      "[CV] alpha=0.25, average=True, epsilon=0.25, l1_ratio=0.25, loss=perceptron, penalty=l1, power_t=0.25, shuffle=False, warm_start=False \n",
      "[CV]  alpha=0.25, average=True, epsilon=0.25, l1_ratio=0.25, loss=perceptron, penalty=l1, power_t=0.25, shuffle=False, warm_start=False, score=0.161, total=   0.0s\n",
      "[CV] alpha=0.25, average=True, epsilon=0.25, l1_ratio=0.25, loss=perceptron, penalty=l1, power_t=0.25, shuffle=False, warm_start=False \n",
      "[CV]  alpha=0.25, average=True, epsilon=0.25, l1_ratio=0.25, loss=perceptron, penalty=l1, power_t=0.25, shuffle=False, warm_start=False, score=0.549, total=   0.0s\n",
      "[CV] alpha=0.25, average=True, epsilon=0.25, l1_ratio=0.25, loss=perceptron, penalty=elasticnet, power_t=0.25, shuffle=True, warm_start=True \n",
      "[CV]  alpha=0.25, average=True, epsilon=0.25, l1_ratio=0.25, loss=perceptron, penalty=elasticnet, power_t=0.25, shuffle=True, warm_start=True, score=0.290, total=   0.0s\n",
      "[CV] alpha=0.25, average=True, epsilon=0.25, l1_ratio=0.25, loss=perceptron, penalty=elasticnet, power_t=0.25, shuffle=True, warm_start=True \n",
      "[CV]  alpha=0.25, average=True, epsilon=0.25, l1_ratio=0.25, loss=perceptron, penalty=elasticnet, power_t=0.25, shuffle=True, warm_start=True, score=0.549, total=   0.0s\n",
      "[CV] alpha=0.25, average=True, epsilon=0.25, l1_ratio=0.25, loss=perceptron, penalty=elasticnet, power_t=0.25, shuffle=True, warm_start=False \n",
      "[CV]  alpha=0.25, average=True, epsilon=0.25, l1_ratio=0.25, loss=perceptron, penalty=elasticnet, power_t=0.25, shuffle=True, warm_start=False, score=0.549, total=   0.0s\n",
      "[CV] alpha=0.25, average=True, epsilon=0.25, l1_ratio=0.25, loss=perceptron, penalty=elasticnet, power_t=0.25, shuffle=True, warm_start=False \n",
      "[CV]  alpha=0.25, average=True, epsilon=0.25, l1_ratio=0.25, loss=perceptron, penalty=elasticnet, power_t=0.25, shuffle=True, warm_start=False, score=0.549, total=   0.0s\n",
      "[CV] alpha=0.25, average=True, epsilon=0.25, l1_ratio=0.25, loss=perceptron, penalty=elasticnet, power_t=0.25, shuffle=False, warm_start=True \n",
      "[CV]  alpha=0.25, average=True, epsilon=0.25, l1_ratio=0.25, loss=perceptron, penalty=elasticnet, power_t=0.25, shuffle=False, warm_start=True, score=0.161, total=   0.0s\n",
      "[CV] alpha=0.25, average=True, epsilon=0.25, l1_ratio=0.25, loss=perceptron, penalty=elasticnet, power_t=0.25, shuffle=False, warm_start=True \n",
      "[CV]  alpha=0.25, average=True, epsilon=0.25, l1_ratio=0.25, loss=perceptron, penalty=elasticnet, power_t=0.25, shuffle=False, warm_start=True, score=0.549, total=   0.0s\n",
      "[CV] alpha=0.25, average=True, epsilon=0.25, l1_ratio=0.25, loss=perceptron, penalty=elasticnet, power_t=0.25, shuffle=False, warm_start=False \n",
      "[CV]  alpha=0.25, average=True, epsilon=0.25, l1_ratio=0.25, loss=perceptron, penalty=elasticnet, power_t=0.25, shuffle=False, warm_start=False, score=0.161, total=   0.0s\n",
      "[CV] alpha=0.25, average=True, epsilon=0.25, l1_ratio=0.25, loss=perceptron, penalty=elasticnet, power_t=0.25, shuffle=False, warm_start=False \n",
      "[CV]  alpha=0.25, average=True, epsilon=0.25, l1_ratio=0.25, loss=perceptron, penalty=elasticnet, power_t=0.25, shuffle=False, warm_start=False, score=0.549, total=   0.0s\n"
     ]
    },
    {
     "name": "stderr",
     "output_type": "stream",
     "text": [
      "[Parallel(n_jobs=1)]: Done 144 out of 144 | elapsed:    1.4s finished\n"
     ]
    }
   ],
   "source": [
    "grid = {\n",
    "    'loss':['log','hinge','perceptron'],\n",
    "    'penalty':['l2','l1','elasticnet'],\n",
    "    'alpha':[0.25],\n",
    "    'shuffle':[True,False],\n",
    "    'warm_start':[True,False],\n",
    "    'l1_ratio':[0.25],\n",
    "    'epsilon':[0.25],\n",
    "    'power_t':[0.25],\n",
    "    'average':[False,True]\n",
    "}\n",
    "gs = GridSearchCV(SGDClassifier(),cv=2,verbose=25,param_grid=grid).fit(X_train,y_train)"
   ]
  },
  {
   "cell_type": "code",
   "execution_count": 27,
   "metadata": {},
   "outputs": [
    {
     "data": {
      "text/plain": [
       "0.545144804088586"
      ]
     },
     "execution_count": 27,
     "metadata": {},
     "output_type": "execute_result"
    }
   ],
   "source": [
    "gs.score(X_test,y_test)"
   ]
  },
  {
   "cell_type": "code",
   "execution_count": 28,
   "metadata": {},
   "outputs": [],
   "source": [
    "pickle.dump(gs,open('model.pkl','wb'))"
   ]
  },
  {
   "cell_type": "code",
   "execution_count": 29,
   "metadata": {},
   "outputs": [
    {
     "data": {
      "text/plain": [
       "<4695x4698 sparse matrix of type '<class 'numpy.int64'>'\n",
       "\twith 4699 stored elements in Compressed Sparse Row format>"
      ]
     },
     "execution_count": 29,
     "metadata": {},
     "output_type": "execute_result"
    }
   ],
   "source": [
    "X"
   ]
  },
  {
   "cell_type": "code",
   "execution_count": 31,
   "metadata": {},
   "outputs": [],
   "source": [
    "pickle.dump(cv,open('transformer.pkl','wb'))"
   ]
  },
  {
   "cell_type": "code",
   "execution_count": null,
   "metadata": {},
   "outputs": [],
   "source": []
  }
 ],
 "metadata": {
  "kernelspec": {
   "display_name": "Python 3",
   "language": "python",
   "name": "python3"
  },
  "language_info": {
   "codemirror_mode": {
    "name": "ipython",
    "version": 3
   },
   "file_extension": ".py",
   "mimetype": "text/x-python",
   "name": "python",
   "nbconvert_exporter": "python",
   "pygments_lexer": "ipython3",
   "version": "3.8.5"
  }
 },
 "nbformat": 4,
 "nbformat_minor": 4
}
